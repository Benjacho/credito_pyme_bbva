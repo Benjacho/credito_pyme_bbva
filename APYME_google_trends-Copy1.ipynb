{
 "cells": [
  {
   "cell_type": "code",
   "execution_count": 2,
   "metadata": {},
   "outputs": [],
   "source": [
    "import pandas as pd\n",
    "from pytrends.request import TrendReq\n",
    "import numpy as np"
   ]
  },
  {
   "cell_type": "code",
   "execution_count": 53,
   "metadata": {},
   "outputs": [],
   "source": [
    "\n",
    "def tends(keyw, fechaIni = '2019-10-01', fechaFin = '2020-10-01'):\n",
    "    user_timeframe=fechaIni+' '+fechaFin\n",
    "    user_cat=7\n",
    "    #'Finance'\n",
    "    pytrend = TrendReq(hl='es-PE', tz=360)\n",
    "    \n",
    "    pytrend.build_payload(\n",
    "         kw_list=keyw,\n",
    "         cat=0,\n",
    "         timeframe=user_timeframe,\n",
    "         geo='MX',\n",
    "         gprop='')\n",
    "     \n",
    "    data = pytrend.interest_over_time()\n",
    "    data= data.drop(labels=['isPartial'],axis='columns').reset_index()\n",
    "    \n",
    "    return data\n"
   ]
  },
  {
   "cell_type": "code",
   "execution_count": 54,
   "metadata": {},
   "outputs": [],
   "source": [
    "def maxTendencia(wordsTot):\n",
    "    keywords = wordsTot\n",
    "\n",
    "    listWord=[]\n",
    "    for i in keywords:\n",
    "        listWord.append(i)\n",
    "        # print(f'listword: {listWord}')\n",
    "        data0 =tends(keyw=listWord)\n",
    "        df0 =pd.DataFrame(data0[listWord].max()==100,columns=['bool']).reset_index()\n",
    "        varMax=list(df0['index'][df0['bool']==True])\n",
    "        if i==varMax[0]: listWord=varMax\n",
    "        else: listWord.remove(i)\n",
    "        # print(listword)\n",
    "    # print(listWord)\n",
    "    return listWord, data0\n"
   ]
  },
  {
   "cell_type": "code",
   "execution_count": 55,
   "metadata": {},
   "outputs": [],
   "source": [
    "def obtenerTendencia(listWord, keywords):\n",
    "    key0 = listWord\n",
    "    #dataf = data0[['date']]\n",
    "    dataf = pd.DataFrame()\n",
    "    for i in keywords:\n",
    "        if i!=key0[0]: \n",
    "            key0.append(i)\n",
    "            print(key0)\n",
    "            data1 = tends(key0)\n",
    "\n",
    "            if not dataf.empty:\n",
    "                listVarSel=list(set(data1.columns) - set(dataf['variable'].unique()))\n",
    "                data1 = data1[listVarSel]\n",
    "\n",
    "            colmelt=list(set(data1.columns)-{'date'})\n",
    "            dataf = dataf.append(data1.melt(id_vars='date', value_vars=colmelt, value_name='valor'))\n",
    "\n",
    "            #dataf = dataf.drop_duplicates()\n",
    "            #data1 = data1[[i]]\n",
    "            #dataf = pd.concat([dataf,data1],axis=1)\n",
    "            key0.remove(i)\n",
    "\n",
    "    return dataf"
   ]
  },
  {
   "cell_type": "code",
   "execution_count": 78,
   "metadata": {},
   "outputs": [],
   "source": [
    "\n",
    "def banc(x):\n",
    "    ba=\"\"\n",
    "    if 'santander' in x: ba='SANTANDER PR'\n",
    "    elif 'bbva' in x or 'bancomer' in x: ba='BANCOMER'\n",
    "    elif 'banorte' in x: ba='BANORTE'\n",
    "    elif 'hsbc' in x: ba='HSBC PR'\n",
    "    elif 'banamex' in x or 'citi' in x: ba='BANAMEX'\n",
    "    else: ba='OTRO'\n",
    "\n",
    "    return ba\n",
    "\n",
    "def codBase(dataf, etiqueta):\n",
    "\n",
    "    #colsDataf = list(set(dataf.columns)-{'date'})\n",
    "    #dataf2 = dataf.melt(id_vars='date',value_vars=colsDataf,value_name='valor')\n",
    "\n",
    "    #dataf2.loc[dataf2['variable'].str.contains('santander'),'banco']='SANTANDER PR'\n",
    "\n",
    "    # dataf['banco'] = dataf['variable'].map(banc)\n",
    "    dataf['sector'] = dataf['variable']\n",
    "    \n",
    "    dataf3 = dataf.groupby(['sector','date']).agg(sm=('valor','sum')).reset_index()\n",
    "    dataf3['fh_corte'] = pd.to_datetime(dataf3['date'].dt.strftime('%Y-%m-'+'01'),format='%Y-%m-%d')\n",
    "    \n",
    "    dataf4 = dataf3.groupby(['sector']).agg(mn=('sm','mean')).reset_index()\n",
    "    dataf4['tendencia'] = dataf4['mn']/dataf4['mn'].max()\n",
    "    #dataf4['tendencia'] = dataf4['mn']/dataf4.groupby('fh_corte').mn.transform(np.sum)\n",
    "    \n",
    "    dataf4['etiqueta'] = etiqueta\n",
    "    \n",
    "    return dataf4\n"
   ]
  },
  {
   "cell_type": "code",
   "execution_count": 57,
   "metadata": {},
   "outputs": [],
   "source": [
    "# Consumo\n",
    "\n",
    "bancos = ['bancomer','bbva','bbva bancomer','santander','banamex','citibanamex', 'citi', 'banorte','hsbc',\n",
    "          'scotiabank','banco azteca','bancoppel'\n",
    "         ]\n",
    "\n",
    "words=['prestamo en bancomer','prestamo bancomer', 'prestamos bancomer','bancomer prestamo nomina','prestamo personal bancomer', \n",
    "       'bancomer prestamo de nomina', 'bancomer prestamo personal', 'solicitar prestamo bancomer', 'bancomer prestamo']\n",
    "wordsTotConsumo = []\n",
    "for i in bancos:\n",
    "    for j in words:\n",
    "        wordsTotConsumo.append(j.replace('bancomer',i))\n",
    "        \n",
    "        \n",
    "#Tarjetas tdc\n",
    "\n",
    "words=['bancomer solicitar tarjeta de credito','bancomer tarjeta de credito','solicitar tarjeta de credito bancomer','solicitud tarjeta de credito bancomer',\n",
    "'tarjeta bancomer','tarjeta de credito bancomer','tarjeta de crédito bancomer','tarjeta de credito bancomer sin anualidad','tarjetas bancomer',\n",
    "'tarjetas de credito bancomer','tramitar tarjeta de credito bancomer','bancomer tarjeta de crédito','tdc bancomer','bancomer tdc']\n",
    "wordsTotTdc = []\n",
    "for i in bancos:\n",
    "    for j in words:\n",
    "        wordsTotTdc.append(j.replace('bancomer',i))       \n",
    "\n",
    "#nómina\n",
    "\n",
    "words=['bancomer nomina','bancomer nómina','bancomer portabilidad de nomina','portabilidad de nómina bancomer','portabilidad de nomina bancomer','bancomer portabilidad de nómina','bancomer portabilidad nomina','bancomer portabilidad nómina',\n",
    "      'bancomer cambio de nómina','cambio de nómina bancomer','cambio nómina bancomer']\n",
    "wordsTotNom = []\n",
    "for i in bancos:\n",
    "    for j in words:\n",
    "        wordsTotNom.append(j.replace('bancomer',i)) \n",
    "    \n",
    "#vista\n",
    "\n",
    "words=['cuenta bancomer','cuenta de ahorro bancomer','bancomer cuenta de ahorro','cuenta ahorro bancomer',\n",
    "       'cuenta débito bancomer','cuenta debito bancomer','bancomer cuenta debito','cuenta de debito bancomer',\n",
    "      'bancomer cuenta depósito','bancomer cuenta deposito','cuenta deposito bancomer','cuenta depósito bancomer','cuenta de deposito bancomer',\n",
    "       'cuenta de depósito bancomer']\n",
    "wordsTotVist = []\n",
    "for i in bancos:\n",
    "    for j in words:\n",
    "        wordsTotVist.append(j.replace('bancomer',i))     \n",
    "    \n",
    "    "
   ]
  },
  {
   "cell_type": "code",
   "execution_count": 58,
   "metadata": {},
   "outputs": [
    {
     "output_type": "stream",
     "name": "stdout",
     "text": [
      "listword  ['Tecnologia']\ndata          date  SALUD  VETERINARIAS\n0  2019-10-06     71             1\n1  2019-10-13     68             1\n2  2019-10-20     63             1\n3  2019-10-27     54             1\n4  2019-11-03     60             1\n5  2019-11-10     56             1\n6  2019-11-17     53             1\n7  2019-11-24     51             1\n8  2019-12-01     48             1\n9  2019-12-08     44             1\n10 2019-12-15     35             1\n11 2019-12-22     28             2\n12 2019-12-29     33             1\n13 2020-01-05     47             1\n14 2020-01-12     63             1\n15 2020-01-19     57             1\n16 2020-01-26     59             1\n17 2020-02-02     61             1\n18 2020-02-09     60             1\n19 2020-02-16     60             1\n20 2020-02-23     62             1\n21 2020-03-01     60             1\n22 2020-03-08     65             1\n23 2020-03-15     91             1\n24 2020-03-22     88             1\n25 2020-03-29     91             1\n26 2020-04-05     72             2\n27 2020-04-12     70             1\n28 2020-04-19     78             1\n29 2020-04-26     69             1\n30 2020-05-03     67             1\n31 2020-05-10     69             1\n32 2020-05-17     73             2\n33 2020-05-24     74             2\n34 2020-05-31     73             1\n35 2020-06-07     71             1\n36 2020-06-14     66             1\n37 2020-06-21     62             1\n38 2020-06-28     64             1\n39 2020-07-05     69             2\n40 2020-07-12     70             1\n41 2020-07-19     75             2\n42 2020-07-26     79             1\n43 2020-08-02     70             2\n44 2020-08-09     74             2\n45 2020-08-16     69             1\n46 2020-08-23     79             1\n47 2020-08-30     84             1\n48 2020-09-06     85             1\n49 2020-09-13     80             1\n50 2020-09-20     92             1\n51 2020-09-27    100             1\n"
     ]
    }
   ],
   "source": [
    "# ruta='/Users/mb66483/Documents/'\n",
    "# fechaIni='2017-01-01'\n",
    "# fechaFin='2020-10-01'\n",
    "# wordsTot = 'wordsTotVist'\n",
    "#wordsTotConsumo #wordsTotTdc #wordsTotNom #wordsTotVist\n",
    "\n",
    "# if wordsTot=='wordsTotConsumo': \n",
    "#     wordVec = wordsTotConsumo\n",
    "#     etiqueta='goog_tend_consumo'\n",
    "# elif wordsTot=='wordsTotTdc': \n",
    "#     wordVec = wordsTotTdc\n",
    "#     etiqueta='goog_tend_tdc'\n",
    "# elif wordsTot=='wordsTotNom': \n",
    "#     wordVec = wordsTotNom\n",
    "#     etiqueta='goog_tend_nom'\n",
    "# elif wordsTot=='wordsTotVist': \n",
    "#     wordVec = wordsTotVist\n",
    "#     etiqueta='goog_tend_vista'\n",
    "\n",
    "wordVec = ['COMERCIALIZADORAS',\n",
    " 'CONSULTORIAS Y SERVICIOS',\n",
    " 'CONSTRUCTORAS',\n",
    " 'TRANSPORTE',\n",
    " 'METALMECANICA',\n",
    " 'AGROINDUSTRIA Y GANADERIA',\n",
    " 'INMOBILIARIAS',\n",
    " 'TURISMO',\n",
    " 'OTROS SERVICIOS',\n",
    " 'HIDROCARBUROS',\n",
    " 'INFORMATICA',\n",
    " 'VEHICULOS',\n",
    " 'TEXTILES',\n",
    " 'MINERIA',\n",
    " 'INDUSTRIA ALIMENTARIA',\n",
    " 'EDUCACION',\n",
    " 'CAUCHO Y PLASTICO',\n",
    " 'TELECOMUNICACIONES',\n",
    " 'PESCA',\n",
    " 'SALUD',\n",
    " 'ALQUILERES DE MAQUINARIAS',\n",
    " 'INTERMEDIACION FINANCIERA',\n",
    " 'ESPARCIMIENTO',\n",
    " 'AUTOMOTRIZ',\n",
    " 'ABOGADOS',\n",
    " 'QUIMICAS',\n",
    " 'IMPRESION',\n",
    " 'MINERALES NO METALICOS',\n",
    " 'FORESTAL Y SILVICULTURA',\n",
    " 'ORGANIZACIONES',\n",
    " 'ENERGIA Y AGUA',\n",
    " 'EDITORIALES',\n",
    " 'ADMINISTRACION PUBLICA',\n",
    " 'CURTIDURIA',\n",
    " 'PAPEL',\n",
    " 'CORREOS',\n",
    " 'RECICLAJE',\n",
    " 'LABORATORIOS',\n",
    " 'INVESTIGACION Y DESARROLLO',\n",
    " 'BEBIDAS',\n",
    " 'VETERINARIAS']\n",
    "\n",
    "listWord, data0= maxTendencia(wordVec)\n",
    "print(f'listword  {listword}')\n",
    "print(f'data {data0}')\n"
   ]
  },
  {
   "cell_type": "code",
   "execution_count": 67,
   "metadata": {},
   "outputs": [
    {
     "output_type": "stream",
     "name": "stdout",
     "text": [
      "['SALUD', 'COMERCIALIZADORAS']\n",
      "['SALUD', 'CONSULTORIAS Y SERVICIOS']\n",
      "['SALUD', 'CONSTRUCTORAS']\n",
      "['SALUD', 'TRANSPORTE']\n",
      "['SALUD', 'METALMECANICA']\n",
      "['SALUD', 'AGROINDUSTRIA Y GANADERIA']\n",
      "['SALUD', 'INMOBILIARIAS']\n",
      "['SALUD', 'TURISMO']\n",
      "['SALUD', 'OTROS SERVICIOS']\n",
      "['SALUD', 'HIDROCARBUROS']\n",
      "['SALUD', 'INFORMATICA']\n",
      "['SALUD', 'VEHICULOS']\n",
      "['SALUD', 'TEXTILES']\n",
      "['SALUD', 'MINERIA']\n",
      "['SALUD', 'INDUSTRIA ALIMENTARIA']\n",
      "['SALUD', 'EDUCACION']\n",
      "['SALUD', 'CAUCHO Y PLASTICO']\n",
      "['SALUD', 'TELECOMUNICACIONES']\n",
      "['SALUD', 'PESCA']\n",
      "['SALUD', 'ALQUILERES DE MAQUINARIAS']\n",
      "['SALUD', 'INTERMEDIACION FINANCIERA']\n",
      "['SALUD', 'ESPARCIMIENTO']\n",
      "['SALUD', 'AUTOMOTRIZ']\n",
      "['SALUD', 'ABOGADOS']\n",
      "['SALUD', 'QUIMICAS']\n",
      "['SALUD', 'IMPRESION']\n",
      "['SALUD', 'MINERALES NO METALICOS']\n",
      "['SALUD', 'FORESTAL Y SILVICULTURA']\n",
      "['SALUD', 'ORGANIZACIONES']\n",
      "['SALUD', 'ENERGIA Y AGUA']\n",
      "['SALUD', 'EDITORIALES']\n",
      "['SALUD', 'ADMINISTRACION PUBLICA']\n",
      "['SALUD', 'CURTIDURIA']\n",
      "['SALUD', 'PAPEL']\n",
      "['SALUD', 'CORREOS']\n",
      "['SALUD', 'RECICLAJE']\n",
      "['SALUD', 'LABORATORIOS']\n",
      "['SALUD', 'INVESTIGACION Y DESARROLLO']\n",
      "['SALUD', 'BEBIDAS']\n",
      "['SALUD', 'VETERINARIAS']\n"
     ]
    }
   ],
   "source": [
    "datafl = obtenerTendencia(listWord,wordVec)\n",
    "\n"
   ]
  },
  {
   "cell_type": "code",
   "execution_count": 74,
   "metadata": {},
   "outputs": [
    {
     "output_type": "execute_result",
     "data": {
      "text/plain": [
       "         date                   variable  valor\n",
       "43 2020-08-02                 CURTIDURIA      0\n",
       "36 2020-06-14     ADMINISTRACION PUBLICA      1\n",
       "28 2020-04-19                   QUIMICAS      5\n",
       "51 2020-09-27              CONSTRUCTORAS      0\n",
       "5  2019-11-10  INTERMEDIACION FINANCIERA      0\n",
       "48 2020-09-06          CAUCHO Y PLASTICO      0\n",
       "22 2020-03-08         TELECOMUNICACIONES      1\n",
       "6  2019-11-17          CAUCHO Y PLASTICO      0\n",
       "22 2020-03-08                EDITORIALES      0\n",
       "25 2020-03-29               VETERINARIAS      1\n",
       "31 2020-05-10  INTERMEDIACION FINANCIERA      0\n",
       "12 2019-12-29  AGROINDUSTRIA Y GANADERIA      0\n",
       "35 2020-06-07                  VEHICULOS      3\n",
       "20 2020-02-23      INDUSTRIA ALIMENTARIA      0\n",
       "45 2020-08-16     ADMINISTRACION PUBLICA      1\n",
       "12 2019-12-29              ESPARCIMIENTO      0\n",
       "32 2020-05-17     ADMINISTRACION PUBLICA      1\n",
       "14 2020-01-12               LABORATORIOS     12\n",
       "28 2020-04-19                   TEXTILES      1\n",
       "30 2020-05-03                    TURISMO     13"
      ],
      "text/html": "<div>\n<style scoped>\n    .dataframe tbody tr th:only-of-type {\n        vertical-align: middle;\n    }\n\n    .dataframe tbody tr th {\n        vertical-align: top;\n    }\n\n    .dataframe thead th {\n        text-align: right;\n    }\n</style>\n<table border=\"1\" class=\"dataframe\">\n  <thead>\n    <tr style=\"text-align: right;\">\n      <th></th>\n      <th>date</th>\n      <th>variable</th>\n      <th>valor</th>\n    </tr>\n  </thead>\n  <tbody>\n    <tr>\n      <th>43</th>\n      <td>2020-08-02</td>\n      <td>CURTIDURIA</td>\n      <td>0</td>\n    </tr>\n    <tr>\n      <th>36</th>\n      <td>2020-06-14</td>\n      <td>ADMINISTRACION PUBLICA</td>\n      <td>1</td>\n    </tr>\n    <tr>\n      <th>28</th>\n      <td>2020-04-19</td>\n      <td>QUIMICAS</td>\n      <td>5</td>\n    </tr>\n    <tr>\n      <th>51</th>\n      <td>2020-09-27</td>\n      <td>CONSTRUCTORAS</td>\n      <td>0</td>\n    </tr>\n    <tr>\n      <th>5</th>\n      <td>2019-11-10</td>\n      <td>INTERMEDIACION FINANCIERA</td>\n      <td>0</td>\n    </tr>\n    <tr>\n      <th>48</th>\n      <td>2020-09-06</td>\n      <td>CAUCHO Y PLASTICO</td>\n      <td>0</td>\n    </tr>\n    <tr>\n      <th>22</th>\n      <td>2020-03-08</td>\n      <td>TELECOMUNICACIONES</td>\n      <td>1</td>\n    </tr>\n    <tr>\n      <th>6</th>\n      <td>2019-11-17</td>\n      <td>CAUCHO Y PLASTICO</td>\n      <td>0</td>\n    </tr>\n    <tr>\n      <th>22</th>\n      <td>2020-03-08</td>\n      <td>EDITORIALES</td>\n      <td>0</td>\n    </tr>\n    <tr>\n      <th>25</th>\n      <td>2020-03-29</td>\n      <td>VETERINARIAS</td>\n      <td>1</td>\n    </tr>\n    <tr>\n      <th>31</th>\n      <td>2020-05-10</td>\n      <td>INTERMEDIACION FINANCIERA</td>\n      <td>0</td>\n    </tr>\n    <tr>\n      <th>12</th>\n      <td>2019-12-29</td>\n      <td>AGROINDUSTRIA Y GANADERIA</td>\n      <td>0</td>\n    </tr>\n    <tr>\n      <th>35</th>\n      <td>2020-06-07</td>\n      <td>VEHICULOS</td>\n      <td>3</td>\n    </tr>\n    <tr>\n      <th>20</th>\n      <td>2020-02-23</td>\n      <td>INDUSTRIA ALIMENTARIA</td>\n      <td>0</td>\n    </tr>\n    <tr>\n      <th>45</th>\n      <td>2020-08-16</td>\n      <td>ADMINISTRACION PUBLICA</td>\n      <td>1</td>\n    </tr>\n    <tr>\n      <th>12</th>\n      <td>2019-12-29</td>\n      <td>ESPARCIMIENTO</td>\n      <td>0</td>\n    </tr>\n    <tr>\n      <th>32</th>\n      <td>2020-05-17</td>\n      <td>ADMINISTRACION PUBLICA</td>\n      <td>1</td>\n    </tr>\n    <tr>\n      <th>14</th>\n      <td>2020-01-12</td>\n      <td>LABORATORIOS</td>\n      <td>12</td>\n    </tr>\n    <tr>\n      <th>28</th>\n      <td>2020-04-19</td>\n      <td>TEXTILES</td>\n      <td>1</td>\n    </tr>\n    <tr>\n      <th>30</th>\n      <td>2020-05-03</td>\n      <td>TURISMO</td>\n      <td>13</td>\n    </tr>\n  </tbody>\n</table>\n</div>"
     },
     "metadata": {},
     "execution_count": 74
    }
   ],
   "source": [
    "datafl.sample(20)\n"
   ]
  },
  {
   "cell_type": "code",
   "execution_count": 79,
   "metadata": {},
   "outputs": [],
   "source": [
    "data4 = codBase(datafl,'sector_economico')"
   ]
  },
  {
   "cell_type": "code",
   "execution_count": 80,
   "metadata": {},
   "outputs": [
    {
     "output_type": "execute_result",
     "data": {
      "text/plain": [
       "                        sector         mn  tendencia          etiqueta\n",
       "0                     ABOGADOS   3.173077   0.047660  sector_economico\n",
       "1       ADMINISTRACION PUBLICA   1.019231   0.015309  sector_economico\n",
       "2    AGROINDUSTRIA Y GANADERIA   0.000000   0.000000  sector_economico\n",
       "3    ALQUILERES DE MAQUINARIAS   0.000000   0.000000  sector_economico\n",
       "4                   AUTOMOTRIZ   8.788462   0.132005  sector_economico\n",
       "5                      BEBIDAS   6.480769   0.097343  sector_economico\n",
       "6            CAUCHO Y PLASTICO   0.000000   0.000000  sector_economico\n",
       "7            COMERCIALIZADORAS   0.000000   0.000000  sector_economico\n",
       "8                CONSTRUCTORAS   0.788462   0.011843  sector_economico\n",
       "9     CONSULTORIAS Y SERVICIOS   0.000000   0.000000  sector_economico\n",
       "10                     CORREOS  16.288462   0.244656  sector_economico\n",
       "11                  CURTIDURIA   0.000000   0.000000  sector_economico\n",
       "12                 EDITORIALES   0.038462   0.000578  sector_economico\n",
       "13                   EDUCACION  27.173077   0.408146  sector_economico\n",
       "14              ENERGIA Y AGUA   0.076923   0.001155  sector_economico\n",
       "15               ESPARCIMIENTO   0.076923   0.001155  sector_economico\n",
       "16     FORESTAL Y SILVICULTURA   0.000000   0.000000  sector_economico\n",
       "17               HIDROCARBUROS   1.500000   0.022530  sector_economico\n",
       "18                   IMPRESION   4.153846   0.062392  sector_economico\n",
       "19       INDUSTRIA ALIMENTARIA   0.115385   0.001733  sector_economico\n",
       "20                 INFORMATICA   5.250000   0.078856  sector_economico\n",
       "21               INMOBILIARIAS   0.961538   0.014443  sector_economico\n",
       "22   INTERMEDIACION FINANCIERA   0.000000   0.000000  sector_economico\n",
       "23  INVESTIGACION Y DESARROLLO   0.000000   0.000000  sector_economico\n",
       "24                LABORATORIOS  12.500000   0.187753  sector_economico\n",
       "25               METALMECANICA   0.000000   0.000000  sector_economico\n",
       "26      MINERALES NO METALICOS   0.057692   0.000867  sector_economico\n",
       "27                     MINERIA   1.673077   0.025130  sector_economico\n",
       "28              ORGANIZACIONES   3.153846   0.047371  sector_economico\n",
       "29             OTROS SERVICIOS   0.019231   0.000289  sector_economico\n",
       "30                       PAPEL  43.461538   0.652802  sector_economico\n",
       "31                       PESCA   3.057692   0.045927  sector_economico\n",
       "32                    QUIMICAS   4.038462   0.060659  sector_economico\n",
       "33                   RECICLAJE   2.750000   0.041306  sector_economico\n",
       "34                       SALUD  66.576923   1.000000  sector_economico\n",
       "35          TELECOMUNICACIONES   1.326923   0.019931  sector_economico\n",
       "36                    TEXTILES   0.923077   0.013865  sector_economico\n",
       "37                  TRANSPORTE  12.942308   0.194396  sector_economico\n",
       "38                     TURISMO   8.019231   0.120451  sector_economico\n",
       "39                   VEHICULOS   2.980769   0.044772  sector_economico\n",
       "40                VETERINARIAS   1.153846   0.017331  sector_economico"
      ],
      "text/html": "<div>\n<style scoped>\n    .dataframe tbody tr th:only-of-type {\n        vertical-align: middle;\n    }\n\n    .dataframe tbody tr th {\n        vertical-align: top;\n    }\n\n    .dataframe thead th {\n        text-align: right;\n    }\n</style>\n<table border=\"1\" class=\"dataframe\">\n  <thead>\n    <tr style=\"text-align: right;\">\n      <th></th>\n      <th>sector</th>\n      <th>mn</th>\n      <th>tendencia</th>\n      <th>etiqueta</th>\n    </tr>\n  </thead>\n  <tbody>\n    <tr>\n      <th>0</th>\n      <td>ABOGADOS</td>\n      <td>3.173077</td>\n      <td>0.047660</td>\n      <td>sector_economico</td>\n    </tr>\n    <tr>\n      <th>1</th>\n      <td>ADMINISTRACION PUBLICA</td>\n      <td>1.019231</td>\n      <td>0.015309</td>\n      <td>sector_economico</td>\n    </tr>\n    <tr>\n      <th>2</th>\n      <td>AGROINDUSTRIA Y GANADERIA</td>\n      <td>0.000000</td>\n      <td>0.000000</td>\n      <td>sector_economico</td>\n    </tr>\n    <tr>\n      <th>3</th>\n      <td>ALQUILERES DE MAQUINARIAS</td>\n      <td>0.000000</td>\n      <td>0.000000</td>\n      <td>sector_economico</td>\n    </tr>\n    <tr>\n      <th>4</th>\n      <td>AUTOMOTRIZ</td>\n      <td>8.788462</td>\n      <td>0.132005</td>\n      <td>sector_economico</td>\n    </tr>\n    <tr>\n      <th>5</th>\n      <td>BEBIDAS</td>\n      <td>6.480769</td>\n      <td>0.097343</td>\n      <td>sector_economico</td>\n    </tr>\n    <tr>\n      <th>6</th>\n      <td>CAUCHO Y PLASTICO</td>\n      <td>0.000000</td>\n      <td>0.000000</td>\n      <td>sector_economico</td>\n    </tr>\n    <tr>\n      <th>7</th>\n      <td>COMERCIALIZADORAS</td>\n      <td>0.000000</td>\n      <td>0.000000</td>\n      <td>sector_economico</td>\n    </tr>\n    <tr>\n      <th>8</th>\n      <td>CONSTRUCTORAS</td>\n      <td>0.788462</td>\n      <td>0.011843</td>\n      <td>sector_economico</td>\n    </tr>\n    <tr>\n      <th>9</th>\n      <td>CONSULTORIAS Y SERVICIOS</td>\n      <td>0.000000</td>\n      <td>0.000000</td>\n      <td>sector_economico</td>\n    </tr>\n    <tr>\n      <th>10</th>\n      <td>CORREOS</td>\n      <td>16.288462</td>\n      <td>0.244656</td>\n      <td>sector_economico</td>\n    </tr>\n    <tr>\n      <th>11</th>\n      <td>CURTIDURIA</td>\n      <td>0.000000</td>\n      <td>0.000000</td>\n      <td>sector_economico</td>\n    </tr>\n    <tr>\n      <th>12</th>\n      <td>EDITORIALES</td>\n      <td>0.038462</td>\n      <td>0.000578</td>\n      <td>sector_economico</td>\n    </tr>\n    <tr>\n      <th>13</th>\n      <td>EDUCACION</td>\n      <td>27.173077</td>\n      <td>0.408146</td>\n      <td>sector_economico</td>\n    </tr>\n    <tr>\n      <th>14</th>\n      <td>ENERGIA Y AGUA</td>\n      <td>0.076923</td>\n      <td>0.001155</td>\n      <td>sector_economico</td>\n    </tr>\n    <tr>\n      <th>15</th>\n      <td>ESPARCIMIENTO</td>\n      <td>0.076923</td>\n      <td>0.001155</td>\n      <td>sector_economico</td>\n    </tr>\n    <tr>\n      <th>16</th>\n      <td>FORESTAL Y SILVICULTURA</td>\n      <td>0.000000</td>\n      <td>0.000000</td>\n      <td>sector_economico</td>\n    </tr>\n    <tr>\n      <th>17</th>\n      <td>HIDROCARBUROS</td>\n      <td>1.500000</td>\n      <td>0.022530</td>\n      <td>sector_economico</td>\n    </tr>\n    <tr>\n      <th>18</th>\n      <td>IMPRESION</td>\n      <td>4.153846</td>\n      <td>0.062392</td>\n      <td>sector_economico</td>\n    </tr>\n    <tr>\n      <th>19</th>\n      <td>INDUSTRIA ALIMENTARIA</td>\n      <td>0.115385</td>\n      <td>0.001733</td>\n      <td>sector_economico</td>\n    </tr>\n    <tr>\n      <th>20</th>\n      <td>INFORMATICA</td>\n      <td>5.250000</td>\n      <td>0.078856</td>\n      <td>sector_economico</td>\n    </tr>\n    <tr>\n      <th>21</th>\n      <td>INMOBILIARIAS</td>\n      <td>0.961538</td>\n      <td>0.014443</td>\n      <td>sector_economico</td>\n    </tr>\n    <tr>\n      <th>22</th>\n      <td>INTERMEDIACION FINANCIERA</td>\n      <td>0.000000</td>\n      <td>0.000000</td>\n      <td>sector_economico</td>\n    </tr>\n    <tr>\n      <th>23</th>\n      <td>INVESTIGACION Y DESARROLLO</td>\n      <td>0.000000</td>\n      <td>0.000000</td>\n      <td>sector_economico</td>\n    </tr>\n    <tr>\n      <th>24</th>\n      <td>LABORATORIOS</td>\n      <td>12.500000</td>\n      <td>0.187753</td>\n      <td>sector_economico</td>\n    </tr>\n    <tr>\n      <th>25</th>\n      <td>METALMECANICA</td>\n      <td>0.000000</td>\n      <td>0.000000</td>\n      <td>sector_economico</td>\n    </tr>\n    <tr>\n      <th>26</th>\n      <td>MINERALES NO METALICOS</td>\n      <td>0.057692</td>\n      <td>0.000867</td>\n      <td>sector_economico</td>\n    </tr>\n    <tr>\n      <th>27</th>\n      <td>MINERIA</td>\n      <td>1.673077</td>\n      <td>0.025130</td>\n      <td>sector_economico</td>\n    </tr>\n    <tr>\n      <th>28</th>\n      <td>ORGANIZACIONES</td>\n      <td>3.153846</td>\n      <td>0.047371</td>\n      <td>sector_economico</td>\n    </tr>\n    <tr>\n      <th>29</th>\n      <td>OTROS SERVICIOS</td>\n      <td>0.019231</td>\n      <td>0.000289</td>\n      <td>sector_economico</td>\n    </tr>\n    <tr>\n      <th>30</th>\n      <td>PAPEL</td>\n      <td>43.461538</td>\n      <td>0.652802</td>\n      <td>sector_economico</td>\n    </tr>\n    <tr>\n      <th>31</th>\n      <td>PESCA</td>\n      <td>3.057692</td>\n      <td>0.045927</td>\n      <td>sector_economico</td>\n    </tr>\n    <tr>\n      <th>32</th>\n      <td>QUIMICAS</td>\n      <td>4.038462</td>\n      <td>0.060659</td>\n      <td>sector_economico</td>\n    </tr>\n    <tr>\n      <th>33</th>\n      <td>RECICLAJE</td>\n      <td>2.750000</td>\n      <td>0.041306</td>\n      <td>sector_economico</td>\n    </tr>\n    <tr>\n      <th>34</th>\n      <td>SALUD</td>\n      <td>66.576923</td>\n      <td>1.000000</td>\n      <td>sector_economico</td>\n    </tr>\n    <tr>\n      <th>35</th>\n      <td>TELECOMUNICACIONES</td>\n      <td>1.326923</td>\n      <td>0.019931</td>\n      <td>sector_economico</td>\n    </tr>\n    <tr>\n      <th>36</th>\n      <td>TEXTILES</td>\n      <td>0.923077</td>\n      <td>0.013865</td>\n      <td>sector_economico</td>\n    </tr>\n    <tr>\n      <th>37</th>\n      <td>TRANSPORTE</td>\n      <td>12.942308</td>\n      <td>0.194396</td>\n      <td>sector_economico</td>\n    </tr>\n    <tr>\n      <th>38</th>\n      <td>TURISMO</td>\n      <td>8.019231</td>\n      <td>0.120451</td>\n      <td>sector_economico</td>\n    </tr>\n    <tr>\n      <th>39</th>\n      <td>VEHICULOS</td>\n      <td>2.980769</td>\n      <td>0.044772</td>\n      <td>sector_economico</td>\n    </tr>\n    <tr>\n      <th>40</th>\n      <td>VETERINARIAS</td>\n      <td>1.153846</td>\n      <td>0.017331</td>\n      <td>sector_economico</td>\n    </tr>\n  </tbody>\n</table>\n</div>"
     },
     "metadata": {},
     "execution_count": 80
    }
   ],
   "source": [
    "data4"
   ]
  },
  {
   "cell_type": "code",
   "execution_count": null,
   "metadata": {},
   "outputs": [],
   "source": []
  },
  {
   "cell_type": "code",
   "execution_count": null,
   "metadata": {},
   "outputs": [],
   "source": [
    "# keywords = [\"Agricultura\", 'Ganaderia', 'Tecnologia']\n",
    "# fechaIni='2019-10-15'\n",
    "# fechaFin='2020-10-15'\n",
    "# # data = tends(fechaIni, fechaFin, keywords)\n",
    "\n",
    "# listword, data = maxTendencia(keywords)"
   ]
  },
  {
   "cell_type": "code",
   "execution_count": 8,
   "metadata": {},
   "outputs": [],
   "source": [
    "#dataf5 = data4.pivot_table(index=['fh_corte'], columns='banco',values='tendencia').reset_index().rename_axis(None, axis=1)"
   ]
  },
  {
   "cell_type": "code",
   "execution_count": 9,
   "metadata": {},
   "outputs": [],
   "source": [
    "#dataf5.to_excel('/Users/mb66483/Documents/exportprest.xlsx')"
   ]
  }
 ],
 "metadata": {
  "kernelspec": {
   "display_name": "Python 3",
   "language": "python",
   "name": "python3"
  },
  "language_info": {
   "codemirror_mode": {
    "name": "ipython",
    "version": 3
   },
   "file_extension": ".py",
   "mimetype": "text/x-python",
   "name": "python",
   "nbconvert_exporter": "python",
   "pygments_lexer": "ipython3",
   "version": "3.8.5-final"
  }
 },
 "nbformat": 4,
 "nbformat_minor": 4
}