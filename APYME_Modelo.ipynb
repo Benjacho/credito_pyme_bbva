{
 "cells": [
  {
   "cell_type": "code",
   "execution_count": null,
   "metadata": {},
   "outputs": [],
   "source": []
  },
  {
   "cell_type": "code",
   "execution_count": null,
   "metadata": {},
   "outputs": [],
   "source": [
    "def partition(df,df_features,vo):\n",
    "    from sklearn.model_selection import train_test_split\n",
    "    X_train, X_test, y_train, y_test = train_test_split(\n",
    "                                        df[df_features], # datos\n",
    "                                        df[vo],   # variable obj\n",
    "                                        test_size=0.40, # partición\n",
    "                                        random_state=1, # semilla\n",
    "                                        shuffle=True) # elegir aleatoriamente\n",
    "    \n",
    "\n",
    "    \n",
    "    return X_train, X_test, y_train, y_test\n",
    "    "
   ]
  },
  {
   "cell_type": "code",
   "execution_count": null,
   "metadata": {},
   "outputs": [],
   "source": [
    "def model_nn(X_train, X_test, y_train, random_state, activation):\n",
    "\n",
    "        \n",
    "    from sklearn.neural_network import MLPRegressor\n",
    "\n",
    "    regr = MLPRegressor(max_iter=500000, activation=activation,random_state=random_state).fit(X_train, y_train)\n",
    "\n",
    "    y_predict = regr.predict(X_test)\n",
    "  \n",
    "\n",
    "\n",
    "    return y_predict, regr\n"
   ]
  },
  {
   "cell_type": "code",
   "execution_count": null,
   "metadata": {},
   "outputs": [],
   "source": [
    "def resultados(df):\n",
    "\n",
    "    dfcom1 = y_test.reset_index()\n",
    "    dfcom1_1 = df[['personal_id_x','customer_id','sbs_customer_id','taxpayer_id','segmento','gender_type']].reset_index()\n",
    "    dfcom1_2 = dfcom1_1.merge(dfcom1, how='inner', on='index')\n",
    "\n",
    "    dfcom2 = pd.concat([dfcom1_2, pd.DataFrame(y_predict, columns=[\"valor_pred\"])],axis=1)\n",
    "\n",
    "    dfcom2['error_est'] = dfcom2['vo_balance_amount']-dfcom2['valor_pred']\n",
    "    dfcom2['p_error_est'] = abs(dfcom2['error_est']/dfcom2['vo_balance_amount'])\n",
    "\n",
    "    dfcom3 = dfcom2['p_error_est'].sum()\n",
    "    \n",
    "    return dfcom2, dfcom3\n"
   ]
  },
  {
   "cell_type": "code",
   "execution_count": null,
   "metadata": {},
   "outputs": [],
   "source": [
    "from sklearn.preprocessing import MinMaxScaler\n",
    "from sklearn.preprocessing import StandardScaler  \n",
    "from sklearn.preprocessing import Normalizer\n",
    "from sklearn.preprocessing import RobustScaler\n",
    "from sklearn.preprocessing import MinMaxScaler\n",
    "from sklearn.preprocessing import PowerTransformer\n",
    "\n",
    "def ftransformacion(X_train, X_test, y_train, transf): \n",
    "    if transf!='ln':\n",
    "        if transf=='minmax':\n",
    "            scaler = MinMaxScaler()\n",
    "            scaler2 = MinMaxScaler()\n",
    "        elif transf=='standard':\n",
    "            scaler = StandardScaler()\n",
    "            scaler2 = StandardScaler()\n",
    "        elif transf=='robust':\n",
    "            scaler= RobustScaler()\n",
    "            scaler2= RobustScaler()\n",
    "        elif transf=='boxcox':\n",
    "            scaler= PowerTransformer(method='yeo-johnson')\n",
    "            scaler2= PowerTransformer(method='yeo-johnson')\n",
    "\n",
    "        mm_scaler = scaler.fit(X_train)\n",
    "        X_train = mm_scaler.transform(X_train)\n",
    "        X_test = mm_scaler.transform(X_test)\n",
    "\n",
    "\n",
    "        mm_scaler2 = scaler2.fit(pd.DataFrame(y_train))\n",
    "        y_train = mm_scaler2.transform(y_train)\n",
    "    else:\n",
    "        X_train = np.log(X_train)\n",
    "        X_test = np.log(X_test)\n",
    "        #y_train = y_train.values\n",
    "        y_train = np.log(y_train).values\n",
    "        mm_scaler = ''\n",
    "        mm_scaler2 = ''\n",
    "        \n",
    "\n",
    "    return X_train, X_test, y_train, mm_scaler, mm_scaler2\n",
    "    \n",
    "\n",
    "\n",
    "def transformacion_inversa(y_predict, mm_scaler2):\n",
    "    if mm_scaler2!='':\n",
    "        y_predict = mm_scaler2.inverse_transform(pd.DataFrame(y_predict))\n",
    "    else: \n",
    "        y_predict = np.exp(y_predict)\n",
    "        #y_predict = y_predict\n",
    "    \n",
    "    return y_predict"
   ]
  }
 ],
 "metadata": {
  "kernelspec": {
   "display_name": "Python 3",
   "language": "python",
   "name": "python3"
  },
  "language_info": {
   "codemirror_mode": {
    "name": "ipython",
    "version": 3
   },
   "file_extension": ".py",
   "mimetype": "text/x-python",
   "name": "python",
   "nbconvert_exporter": "python",
   "pygments_lexer": "ipython3",
   "version": "3.7.6"
  }
 },
 "nbformat": 4,
 "nbformat_minor": 4
}
