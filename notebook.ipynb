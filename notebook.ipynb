{
 "metadata": {
  "language_info": {
   "codemirror_mode": {
    "name": "ipython",
    "version": 3
   },
   "file_extension": ".py",
   "mimetype": "text/x-python",
   "name": "python",
   "nbconvert_exporter": "python",
   "pygments_lexer": "ipython3",
   "version": "3.8.5-final"
  },
  "orig_nbformat": 2,
  "kernelspec": {
   "name": "Python 3.8.5 64-bit ('env')",
   "display_name": "Python 3.8.5 64-bit ('env')",
   "metadata": {
    "interpreter": {
     "hash": "84126bf5390fc197f44c2d51651d954900ea8dee8cca5e6c2406674b16d7a4a5"
    }
   }
  }
 },
 "nbformat": 4,
 "nbformat_minor": 2,
 "cells": [
  {
   "cell_type": "code",
   "execution_count": 1,
   "metadata": {},
   "outputs": [],
   "source": [
    "import pandas as pd\n",
    "import numpy as np"
   ]
  },
  {
   "cell_type": "code",
   "execution_count": 15,
   "metadata": {},
   "outputs": [
    {
     "output_type": "execute_result",
     "data": {
      "text/plain": [
       "       taxpayer_id  company_economic_activity_id  \\\n",
       "1373   14205747548                          7421   \n",
       "1338   60012206079                          7220   \n",
       "7893   95846892594                          7414   \n",
       "12147   1347513518                          2520   \n",
       "777    70302899473                          7414   \n",
       "\n",
       "                                       ciiu_spanish_desc  \\\n",
       "1373   Actividades de arquitectura e ingenierÃ­a y ac...   \n",
       "1338   Consultores en programas de informÃ¡tica y sum...   \n",
       "7893   Actividades de asesoramiento empresarial y mat...   \n",
       "12147             FabricaciÃ³n de productos de plÃ¡stico   \n",
       "777    Actividades de asesoramiento empresarial y mat...   \n",
       "\n",
       "      spanish_sector_company_name  employees_number  branches_number  \\\n",
       "1373     CONSULTORIAS Y SERVICIOS               1.0              1.0   \n",
       "1338                  INFORMATICA              37.0              1.0   \n",
       "7893     CONSULTORIAS Y SERVICIOS               NaN              1.0   \n",
       "12147           CAUCHO Y PLASTICO               NaN              NaN   \n",
       "777      CONSULTORIAS Y SERVICIOS              30.0              1.0   \n",
       "\n",
       "      activity_start_date  seniority_company_years_number  \\\n",
       "1373           9999-12-31                            18.0   \n",
       "1338           1997-10-09                            21.0   \n",
       "7893           2009-03-02                             9.0   \n",
       "12147          1992-01-01                             NaN   \n",
       "777            1982-02-08                            36.0   \n",
       "\n",
       "                           company_size_desc foreign_company_mark_type  ...  \\\n",
       "1373   PequeÃ±a empresa / Small-size Company                       NaN  ...   \n",
       "1338   PequeÃ±a empresa / Small-size Company                       NaN  ...   \n",
       "7893   PequeÃ±a empresa / Small-size Company                       NaN  ...   \n",
       "12147  Mediana empresa / Medium-size Company                       NaN  ...   \n",
       "777    Mediana empresa / Medium-size Company                       NaN  ...   \n",
       "\n",
       "      pbi_sector_2015_per pbi_sector_2014_per pbi_sector_2013_per  \\\n",
       "1373                 -3.2                -5.9                 4.4   \n",
       "1338                  3.9                 0.0                 0.0   \n",
       "7893                  0.0                 0.0                 0.0   \n",
       "12147                 4.5                 1.3                 0.2   \n",
       "777                   0.0                 0.0                 0.0   \n",
       "\n",
       "      pbi_sector_2012_per  pbi_sector_2011_per  pbi_sector_2010_per  \\\n",
       "1373                  8.5                 15.2                  3.4   \n",
       "1338                  0.0                  0.0                  9.2   \n",
       "7893                  0.0                  0.0                  0.0   \n",
       "12147                 1.8                  5.2                  2.8   \n",
       "777                   0.0                  0.0                  0.0   \n",
       "\n",
       "       pbi_sector_2009_per  pbi_sector_2008_per  pbi_sector_2007_per  \\\n",
       "1373                  17.4                  6.1                 15.0   \n",
       "1338                   8.2                  1.3                 11.5   \n",
       "7893                   0.0                  0.0                  0.0   \n",
       "12147                  4.1                  0.9                  7.4   \n",
       "777                    0.0                  0.0                  0.0   \n",
       "\n",
       "       cutoff_date  \n",
       "1373    2020-02-28  \n",
       "1338    2020-02-28  \n",
       "7893    2020-02-28  \n",
       "12147   2020-02-28  \n",
       "777     2020-02-28  \n",
       "\n",
       "[5 rows x 226 columns]"
      ],
      "text/html": "<div>\n<style scoped>\n    .dataframe tbody tr th:only-of-type {\n        vertical-align: middle;\n    }\n\n    .dataframe tbody tr th {\n        vertical-align: top;\n    }\n\n    .dataframe thead th {\n        text-align: right;\n    }\n</style>\n<table border=\"1\" class=\"dataframe\">\n  <thead>\n    <tr style=\"text-align: right;\">\n      <th></th>\n      <th>taxpayer_id</th>\n      <th>company_economic_activity_id</th>\n      <th>ciiu_spanish_desc</th>\n      <th>spanish_sector_company_name</th>\n      <th>employees_number</th>\n      <th>branches_number</th>\n      <th>activity_start_date</th>\n      <th>seniority_company_years_number</th>\n      <th>company_size_desc</th>\n      <th>foreign_company_mark_type</th>\n      <th>...</th>\n      <th>pbi_sector_2015_per</th>\n      <th>pbi_sector_2014_per</th>\n      <th>pbi_sector_2013_per</th>\n      <th>pbi_sector_2012_per</th>\n      <th>pbi_sector_2011_per</th>\n      <th>pbi_sector_2010_per</th>\n      <th>pbi_sector_2009_per</th>\n      <th>pbi_sector_2008_per</th>\n      <th>pbi_sector_2007_per</th>\n      <th>cutoff_date</th>\n    </tr>\n  </thead>\n  <tbody>\n    <tr>\n      <th>1373</th>\n      <td>14205747548</td>\n      <td>7421</td>\n      <td>Actividades de arquitectura e ingenierÃ­a y ac...</td>\n      <td>CONSULTORIAS Y SERVICIOS</td>\n      <td>1.0</td>\n      <td>1.0</td>\n      <td>9999-12-31</td>\n      <td>18.0</td>\n      <td>PequeÃ±a empresa / Small-size Company</td>\n      <td>NaN</td>\n      <td>...</td>\n      <td>-3.2</td>\n      <td>-5.9</td>\n      <td>4.4</td>\n      <td>8.5</td>\n      <td>15.2</td>\n      <td>3.4</td>\n      <td>17.4</td>\n      <td>6.1</td>\n      <td>15.0</td>\n      <td>2020-02-28</td>\n    </tr>\n    <tr>\n      <th>1338</th>\n      <td>60012206079</td>\n      <td>7220</td>\n      <td>Consultores en programas de informÃ¡tica y sum...</td>\n      <td>INFORMATICA</td>\n      <td>37.0</td>\n      <td>1.0</td>\n      <td>1997-10-09</td>\n      <td>21.0</td>\n      <td>PequeÃ±a empresa / Small-size Company</td>\n      <td>NaN</td>\n      <td>...</td>\n      <td>3.9</td>\n      <td>0.0</td>\n      <td>0.0</td>\n      <td>0.0</td>\n      <td>0.0</td>\n      <td>9.2</td>\n      <td>8.2</td>\n      <td>1.3</td>\n      <td>11.5</td>\n      <td>2020-02-28</td>\n    </tr>\n    <tr>\n      <th>7893</th>\n      <td>95846892594</td>\n      <td>7414</td>\n      <td>Actividades de asesoramiento empresarial y mat...</td>\n      <td>CONSULTORIAS Y SERVICIOS</td>\n      <td>NaN</td>\n      <td>1.0</td>\n      <td>2009-03-02</td>\n      <td>9.0</td>\n      <td>PequeÃ±a empresa / Small-size Company</td>\n      <td>NaN</td>\n      <td>...</td>\n      <td>0.0</td>\n      <td>0.0</td>\n      <td>0.0</td>\n      <td>0.0</td>\n      <td>0.0</td>\n      <td>0.0</td>\n      <td>0.0</td>\n      <td>0.0</td>\n      <td>0.0</td>\n      <td>2020-02-28</td>\n    </tr>\n    <tr>\n      <th>12147</th>\n      <td>1347513518</td>\n      <td>2520</td>\n      <td>FabricaciÃ³n de productos de plÃ¡stico</td>\n      <td>CAUCHO Y PLASTICO</td>\n      <td>NaN</td>\n      <td>NaN</td>\n      <td>1992-01-01</td>\n      <td>NaN</td>\n      <td>Mediana empresa / Medium-size Company</td>\n      <td>NaN</td>\n      <td>...</td>\n      <td>4.5</td>\n      <td>1.3</td>\n      <td>0.2</td>\n      <td>1.8</td>\n      <td>5.2</td>\n      <td>2.8</td>\n      <td>4.1</td>\n      <td>0.9</td>\n      <td>7.4</td>\n      <td>2020-02-28</td>\n    </tr>\n    <tr>\n      <th>777</th>\n      <td>70302899473</td>\n      <td>7414</td>\n      <td>Actividades de asesoramiento empresarial y mat...</td>\n      <td>CONSULTORIAS Y SERVICIOS</td>\n      <td>30.0</td>\n      <td>1.0</td>\n      <td>1982-02-08</td>\n      <td>36.0</td>\n      <td>Mediana empresa / Medium-size Company</td>\n      <td>NaN</td>\n      <td>...</td>\n      <td>0.0</td>\n      <td>0.0</td>\n      <td>0.0</td>\n      <td>0.0</td>\n      <td>0.0</td>\n      <td>0.0</td>\n      <td>0.0</td>\n      <td>0.0</td>\n      <td>0.0</td>\n      <td>2020-02-28</td>\n    </tr>\n  </tbody>\n</table>\n<p>5 rows × 226 columns</p>\n</div>"
     },
     "metadata": {},
     "execution_count": 15
    }
   ],
   "source": [
    "db_ranking = pd.read_csv('dbRanking.csv', delimiter='|')\n",
    "db_ranking.sample(5)"
   ]
  },
  {
   "cell_type": "code",
   "execution_count": 16,
   "metadata": {},
   "outputs": [],
   "source": [
    "ranking_dict = ['ranking_'+str(i)+'_number' for i in range(2017,2009,-1)]\n",
    "min_usd_billing_dict = ['min_usd_billing_'+str(i)+'_amount' for i in range(2017,2012,-1)]\n",
    "max_usd_billing_dict = ['max_usd_billing_'+str(i)+'_amount' for i in range(2017,2012,-1)]\n",
    "min_pen_billing_dict = ['min_pen_billing_'+str(i)+'_amount' for i in range(2017,2012,-1)] \n",
    "max_pen_billing_dict = ['max_pen_billing_'+str(i)+'_amount' for i in range(2017,2012,-1)]\n",
    "pbi_sector_dict = ['pbi_sector_'+str(i)+'_per' for i in range(2016,2006,-1)]\n",
    "\n",
    "def clean_db_ranking(df):\n",
    "    df = df.drop_duplicates(ignore_index=True)\n",
    "    df = df.dropna(axis=1, how='all')\n",
    "    df = df[df['market_share_per'] < 99] # Removing, these are like 10 registers\n",
    "    df = df.drop(['ebitda_2014_amount', 'ebitda_2013_amount'], axis=1) # Removing these columns because are too few\n",
    "    \n",
    "    for col in ranking_dict: #computing and droping ranking\n",
    "        df['ranking_2017_number'].fillna(df[col], inplace=True)\n",
    "    df['ranking_last_number'] = df['ranking_2017_number']\n",
    "    df = df.drop(ranking_dict, axis=1)\n",
    "    \n",
    "    for col in min_usd_billing_dict: #computing and dropping min usd amounts\n",
    "        df['min_usd_billing_2017_amount'].fillna(df[col], inplace=True)\n",
    "    df['min_usd_billing_last_amount'] = df['min_usd_billing_2016_amount']\n",
    "    df = df.drop(min_usd_billing_dict, axis=1)\n",
    "\n",
    "    for col in max_usd_billing_dict: #computing and dropping max usd amounts\n",
    "        df['max_usd_billing_2017_amount'].fillna(df[col], inplace=True)\n",
    "    df['max_usd_billing_last_amount'] = df['max_usd_billing_2017_amount']\n",
    "    df = df.drop(max_usd_billing_dict, axis=1)\n",
    "\n",
    "    for col in min_pen_billing_dict: #computing and dropping max usd amounts\n",
    "        df['min_pen_billing_2017_amount'].fillna(df[col], inplace=True)\n",
    "    df['min_pen_billing_last_amount'] = df['min_pen_billing_2017_amount']\n",
    "    df = df.drop(min_pen_billing_dict, axis=1)\n",
    "\n",
    "    for col in max_pen_billing_dict: #computing and dropping max usd amounts\n",
    "        df['max_pen_billing_2017_amount'].fillna(df[col], inplace=True)\n",
    "    df['max_pen_billing_last_amount'] = df['max_pen_billing_2017_amount']\n",
    "    df = df.drop(max_pen_billing_dict, axis=1)\n",
    "\n",
    "    df['exporter_mark_type_flag'] = df['exporter_mark_type']\n",
    "    df['importer_mark_type_flag'] = df['importer_mark_type']\n",
    "\n",
    "    df = df.drop(df.columns[[i for i in range(15, 185)]], axis=1)\n",
    "\n",
    "    for col in pbi_sector_dict: #computing and dropping max usd amounts\n",
    "        df['pbi_sector_2016_per'].fillna(df[col], inplace=True)\n",
    "    df['pbi_sector_last_per'] = df['pbi_sector_2016_per']\n",
    "    df['pbi_sector_last_per'] = df['pbi_sector_last_per'].replace(0, np.nan)\n",
    "    df = df.drop(pbi_sector_dict, axis=1)\n",
    "\n",
    "    df = df.drop(['cutoff_date'], axis=1)\n",
    "\n",
    "    return df"
   ]
  },
  {
   "cell_type": "code",
   "execution_count": 17,
   "metadata": {},
   "outputs": [],
   "source": [
    "db_ranking = clean_db_ranking(db_ranking)\n",
    "# db_ranking.drop_duplicates()"
   ]
  },
  {
   "cell_type": "code",
   "execution_count": 19,
   "metadata": {},
   "outputs": [],
   "source": [
    "db_ranking.to_excel('db_ranking_clean.xlsx')"
   ]
  },
  {
   "cell_type": "code",
   "execution_count": 6,
   "metadata": {},
   "outputs": [
    {
     "output_type": "execute_result",
     "data": {
      "text/plain": [
       "['COMERCIALIZADORAS',\n",
       " 'CONSULTORIAS Y SERVICIOS',\n",
       " 'CONSTRUCTORAS',\n",
       " 'TRANSPORTE',\n",
       " 'METALMECANICA',\n",
       " 'AGROINDUSTRIA Y GANADERIA',\n",
       " 'INMOBILIARIAS',\n",
       " 'TURISMO',\n",
       " 'OTROS SERVICIOS',\n",
       " 'HIDROCARBUROS',\n",
       " 'INFORMATICA',\n",
       " 'VEHICULOS',\n",
       " 'TEXTILES',\n",
       " 'MINERIA',\n",
       " 'INDUSTRIA ALIMENTARIA',\n",
       " 'EDUCACION',\n",
       " 'CAUCHO Y PLASTICO',\n",
       " 'TELECOMUNICACIONES',\n",
       " 'PESCA',\n",
       " 'SALUD',\n",
       " 'ALQUILERES (MAQUINARIA)',\n",
       " 'INTERMEDIACION FINANCIERA',\n",
       " 'ESPARCIMIENTO',\n",
       " 'AUTOMOTRIZ',\n",
       " 'ABOGADOS',\n",
       " 'QUIMICAS',\n",
       " 'IMPRESIÃ“N',\n",
       " 'MINERALES NO METALICOS',\n",
       " 'FORESTAL Y SILVICULTURA',\n",
       " 'ORGANIZACIONES',\n",
       " 'ENERGIA Y AGUA',\n",
       " 'EDITORIALES',\n",
       " 'ADMINISTRACION PUBLICA',\n",
       " 'PAPEL',\n",
       " 'CURTIDURIA',\n",
       " 'CORREOS',\n",
       " 'RECICLAJE',\n",
       " 'LABORATORIOS',\n",
       " 'BEBIDAS',\n",
       " 'INVESTIGACION Y DESARROLLO',\n",
       " 'VETERINARIAS']"
      ]
     },
     "metadata": {},
     "execution_count": 6
    }
   ],
   "source": [
    "db_ranking['spanish_sector_company_name'].value_counts().index.tolist()"
   ]
  },
  {
   "cell_type": "code",
   "execution_count": 9,
   "metadata": {},
   "outputs": [
    {
     "output_type": "execute_result",
     "data": {
      "text/plain": [
       "ConstrucciÃ³n de edificios completos o de partes de edificios, obras de ingenierÃ­a civil       538\n",
       "Venta al por mayor de otros productos                                                           522\n",
       "Otras actividades empresariales n.c.p.                                                          349\n",
       "Transporte de carga por carretera                                                               294\n",
       "Actividades de arquitectura e ingenierÃ­a y actividaes conexas de asesoramiento tÃ©cnico        222\n",
       "                                                                                               ... \n",
       "ReproducciÃ³n de grabaciones                                                                      1\n",
       "Actividades de fotografÃ­a                                                                        1\n",
       "FabricaciÃ³n de cojines, engranajes, trenes de engranajes y piezas de transmisiÃ³n                1\n",
       "FabricaciÃ³n de artÃ­culos de cuchillerÃ­a, herramientas de mano y artÃ­culos de ferreterÃ­a      1\n",
       "Actividades de organizaciones empresariales y de empleadores                                      1\n",
       "Name: ciiu_spanish_desc, Length: 228, dtype: int64"
      ]
     },
     "metadata": {},
     "execution_count": 9
    }
   ],
   "source": [
    "db_ranking['ciiu_spanish_desc'].value_counts()"
   ]
  },
  {
   "cell_type": "code",
   "execution_count": 10,
   "metadata": {},
   "outputs": [
    {
     "output_type": "execute_result",
     "data": {
      "text/plain": [
       "PequeÃ±a empresa / Small-size Company    3093\n",
       "Mediana empresa / Medium-size Company    2648\n",
       "Gran Empresa / Big-size Company            28\n",
       "Name: company_size_desc, dtype: int64"
      ]
     },
     "metadata": {},
     "execution_count": 10
    }
   ],
   "source": [
    "db_ranking['company_size_desc'].value_counts()"
   ]
  },
  {
   "cell_type": "code",
   "execution_count": 17,
   "metadata": {},
   "outputs": [
    {
     "output_type": "execute_result",
     "data": {
      "text/plain": [
       "Lima                4167\n",
       "La Libertad          190\n",
       "Arequipa             176\n",
       "Piura                131\n",
       "Ancash               126\n",
       "Ucayali              121\n",
       "Lambayeque            98\n",
       "JunÃ­n                83\n",
       "Cajamarca             81\n",
       "Loreto                77\n",
       "Cusco                 75\n",
       "San MartÃ­n           68\n",
       "Puno                  64\n",
       "HuÃ¡nuco              64\n",
       "Ica                   62\n",
       "Ayacucho              40\n",
       "Tacna                 33\n",
       "Madre de Dios         25\n",
       "Tumbes                23\n",
       "Pasco                 23\n",
       "Amazonas              22\n",
       "Moquegua              11\n",
       "ApurÃ­mac              9\n",
       "Huancavelica           3\n",
       "Callao                 2\n",
       "Av. JosÃ© GÃ¡lve       2\n",
       "Madre De Dios          1\n",
       "Name: department_name, dtype: int64"
      ]
     },
     "metadata": {},
     "execution_count": 17
    }
   ],
   "source": [
    "db_ranking['department_name'].value_counts()"
   ]
  }
 ]
}