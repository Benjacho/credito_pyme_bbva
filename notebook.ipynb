{
 "metadata": {
  "language_info": {
   "codemirror_mode": {
    "name": "ipython",
    "version": 3
   },
   "file_extension": ".py",
   "mimetype": "text/x-python",
   "name": "python",
   "nbconvert_exporter": "python",
   "pygments_lexer": "ipython3",
   "version": "3.8.5-final"
  },
  "orig_nbformat": 2,
  "kernelspec": {
   "name": "Python 3.8.5 64-bit ('env')",
   "display_name": "Python 3.8.5 64-bit ('env')",
   "metadata": {
    "interpreter": {
     "hash": "84126bf5390fc197f44c2d51651d954900ea8dee8cca5e6c2406674b16d7a4a5"
    }
   }
  }
 },
 "nbformat": 4,
 "nbformat_minor": 2,
 "cells": [
  {
   "cell_type": "code",
   "execution_count": 2,
   "metadata": {},
   "outputs": [],
   "source": [
    "import pandas as pd\n",
    "import numpy as np"
   ]
  },
  {
   "cell_type": "code",
   "execution_count": 3,
   "metadata": {},
   "outputs": [
    {
     "output_type": "execute_result",
     "data": {
      "text/plain": [
       "      taxpayer_id  company_economic_activity_id  \\\n",
       "6926  39103473652                          7491   \n",
       "9853  88246002168                          5150   \n",
       "6120   1486145710                          8030   \n",
       "2558  35654760803                           500   \n",
       "2860  36100359752                          4520   \n",
       "\n",
       "                                      ciiu_spanish_desc  \\\n",
       "6926                 ObtenciÃ³n y dotaciÃ³n de personal   \n",
       "9853  Venta la por mayor de maquinaria, equipo y mat...   \n",
       "6120                                EnseÃ±anza superior   \n",
       "2558  Pesca, explotaciÃ³n de criaderos de peces y gr...   \n",
       "2860  ConstrucciÃ³n de edificios completos o de part...   \n",
       "\n",
       "     spanish_sector_company_name  employees_number  branches_number  \\\n",
       "6926    CONSULTORIAS Y SERVICIOS               NaN              1.0   \n",
       "9853           COMERCIALIZADORAS              14.0              1.0   \n",
       "6120                   EDUCACION               9.0              1.0   \n",
       "2558                       PESCA              71.0              1.0   \n",
       "2860               CONSTRUCTORAS               NaN              1.0   \n",
       "\n",
       "     activity_start_date  seniority_company_years_number  \\\n",
       "6926          1993-08-12                            25.0   \n",
       "9853          1996-11-01                            22.0   \n",
       "6120          1995-09-01                            23.0   \n",
       "2558          1984-03-14                            34.0   \n",
       "2860          2013-05-02                             1.0   \n",
       "\n",
       "                          company_size_desc foreign_company_mark_type  ...  \\\n",
       "6926  PequeÃ±a empresa / Small-size Company                       NaN  ...   \n",
       "9853  PequeÃ±a empresa / Small-size Company                       NaN  ...   \n",
       "6120  PequeÃ±a empresa / Small-size Company                       NaN  ...   \n",
       "2558  Mediana empresa / Medium-size Company                       NaN  ...   \n",
       "2860  PequeÃ±a empresa / Small-size Company                       NaN  ...   \n",
       "\n",
       "     pbi_sector_2015_per pbi_sector_2014_per pbi_sector_2013_per  \\\n",
       "6926                 1.8                 5.5                 4.9   \n",
       "9853                 3.4                 2.3                 0.0   \n",
       "6120                 2.9                 4.5                 3.1   \n",
       "2558                 1.8                 3.9                 4.4   \n",
       "2860                 0.0                 0.0                 0.0   \n",
       "\n",
       "     pbi_sector_2012_per  pbi_sector_2011_per  pbi_sector_2010_per  \\\n",
       "6926                5.90                 6.71                 8.82   \n",
       "9853                5.63                 6.80                 6.90   \n",
       "6120                3.60                 4.90                 3.50   \n",
       "2558                5.80                 6.70                 8.80   \n",
       "2860                0.00                 0.00                 0.00   \n",
       "\n",
       "      pbi_sector_2009_per  pbi_sector_2008_per  pbi_sector_2007_per  \\\n",
       "6926                 9.69                 -0.4                12.99   \n",
       "9853                10.70                 -0.7                 8.90   \n",
       "6120                 1.70                  0.7                 2.20   \n",
       "2558                 9.69                 -0.9                12.80   \n",
       "2860                 0.00                  0.0                 0.00   \n",
       "\n",
       "      cutoff_date  \n",
       "6926   2020-02-28  \n",
       "9853   2020-02-28  \n",
       "6120   2020-02-28  \n",
       "2558   2020-02-28  \n",
       "2860   2020-02-28  \n",
       "\n",
       "[5 rows x 226 columns]"
      ],
      "text/html": "<div>\n<style scoped>\n    .dataframe tbody tr th:only-of-type {\n        vertical-align: middle;\n    }\n\n    .dataframe tbody tr th {\n        vertical-align: top;\n    }\n\n    .dataframe thead th {\n        text-align: right;\n    }\n</style>\n<table border=\"1\" class=\"dataframe\">\n  <thead>\n    <tr style=\"text-align: right;\">\n      <th></th>\n      <th>taxpayer_id</th>\n      <th>company_economic_activity_id</th>\n      <th>ciiu_spanish_desc</th>\n      <th>spanish_sector_company_name</th>\n      <th>employees_number</th>\n      <th>branches_number</th>\n      <th>activity_start_date</th>\n      <th>seniority_company_years_number</th>\n      <th>company_size_desc</th>\n      <th>foreign_company_mark_type</th>\n      <th>...</th>\n      <th>pbi_sector_2015_per</th>\n      <th>pbi_sector_2014_per</th>\n      <th>pbi_sector_2013_per</th>\n      <th>pbi_sector_2012_per</th>\n      <th>pbi_sector_2011_per</th>\n      <th>pbi_sector_2010_per</th>\n      <th>pbi_sector_2009_per</th>\n      <th>pbi_sector_2008_per</th>\n      <th>pbi_sector_2007_per</th>\n      <th>cutoff_date</th>\n    </tr>\n  </thead>\n  <tbody>\n    <tr>\n      <th>6926</th>\n      <td>39103473652</td>\n      <td>7491</td>\n      <td>ObtenciÃ³n y dotaciÃ³n de personal</td>\n      <td>CONSULTORIAS Y SERVICIOS</td>\n      <td>NaN</td>\n      <td>1.0</td>\n      <td>1993-08-12</td>\n      <td>25.0</td>\n      <td>PequeÃ±a empresa / Small-size Company</td>\n      <td>NaN</td>\n      <td>...</td>\n      <td>1.8</td>\n      <td>5.5</td>\n      <td>4.9</td>\n      <td>5.90</td>\n      <td>6.71</td>\n      <td>8.82</td>\n      <td>9.69</td>\n      <td>-0.4</td>\n      <td>12.99</td>\n      <td>2020-02-28</td>\n    </tr>\n    <tr>\n      <th>9853</th>\n      <td>88246002168</td>\n      <td>5150</td>\n      <td>Venta la por mayor de maquinaria, equipo y mat...</td>\n      <td>COMERCIALIZADORAS</td>\n      <td>14.0</td>\n      <td>1.0</td>\n      <td>1996-11-01</td>\n      <td>22.0</td>\n      <td>PequeÃ±a empresa / Small-size Company</td>\n      <td>NaN</td>\n      <td>...</td>\n      <td>3.4</td>\n      <td>2.3</td>\n      <td>0.0</td>\n      <td>5.63</td>\n      <td>6.80</td>\n      <td>6.90</td>\n      <td>10.70</td>\n      <td>-0.7</td>\n      <td>8.90</td>\n      <td>2020-02-28</td>\n    </tr>\n    <tr>\n      <th>6120</th>\n      <td>1486145710</td>\n      <td>8030</td>\n      <td>EnseÃ±anza superior</td>\n      <td>EDUCACION</td>\n      <td>9.0</td>\n      <td>1.0</td>\n      <td>1995-09-01</td>\n      <td>23.0</td>\n      <td>PequeÃ±a empresa / Small-size Company</td>\n      <td>NaN</td>\n      <td>...</td>\n      <td>2.9</td>\n      <td>4.5</td>\n      <td>3.1</td>\n      <td>3.60</td>\n      <td>4.90</td>\n      <td>3.50</td>\n      <td>1.70</td>\n      <td>0.7</td>\n      <td>2.20</td>\n      <td>2020-02-28</td>\n    </tr>\n    <tr>\n      <th>2558</th>\n      <td>35654760803</td>\n      <td>500</td>\n      <td>Pesca, explotaciÃ³n de criaderos de peces y gr...</td>\n      <td>PESCA</td>\n      <td>71.0</td>\n      <td>1.0</td>\n      <td>1984-03-14</td>\n      <td>34.0</td>\n      <td>Mediana empresa / Medium-size Company</td>\n      <td>NaN</td>\n      <td>...</td>\n      <td>1.8</td>\n      <td>3.9</td>\n      <td>4.4</td>\n      <td>5.80</td>\n      <td>6.70</td>\n      <td>8.80</td>\n      <td>9.69</td>\n      <td>-0.9</td>\n      <td>12.80</td>\n      <td>2020-02-28</td>\n    </tr>\n    <tr>\n      <th>2860</th>\n      <td>36100359752</td>\n      <td>4520</td>\n      <td>ConstrucciÃ³n de edificios completos o de part...</td>\n      <td>CONSTRUCTORAS</td>\n      <td>NaN</td>\n      <td>1.0</td>\n      <td>2013-05-02</td>\n      <td>1.0</td>\n      <td>PequeÃ±a empresa / Small-size Company</td>\n      <td>NaN</td>\n      <td>...</td>\n      <td>0.0</td>\n      <td>0.0</td>\n      <td>0.0</td>\n      <td>0.00</td>\n      <td>0.00</td>\n      <td>0.00</td>\n      <td>0.00</td>\n      <td>0.0</td>\n      <td>0.00</td>\n      <td>2020-02-28</td>\n    </tr>\n  </tbody>\n</table>\n<p>5 rows × 226 columns</p>\n</div>"
     },
     "metadata": {},
     "execution_count": 3
    }
   ],
   "source": [
    "db_ranking = pd.read_csv('dbRanking.csv', delimiter='|')\n",
    "db_ranking.sample(5)"
   ]
  },
  {
   "cell_type": "code",
   "execution_count": 4,
   "metadata": {},
   "outputs": [],
   "source": [
    "ranking_dict = ['ranking_'+str(i)+'_number' for i in range(2017,2009,-1)]\n",
    "min_usd_billing_dict = ['min_usd_billing_'+str(i)+'_amount' for i in range(2017,2012,-1)]\n",
    "max_usd_billing_dict = ['max_usd_billing_'+str(i)+'_amount' for i in range(2017,2012,-1)]\n",
    "min_pen_billing_dict = ['min_pen_billing_'+str(i)+'_amount' for i in range(2017,2012,-1)] \n",
    "max_pen_billing_dict = ['max_pen_billing_'+str(i)+'_amount' for i in range(2017,2012,-1)]\n",
    "pbi_sector_dict = ['pbi_sector_'+str(i)+'_per' for i in range(2016,2006,-1)]\n",
    "\n",
    "def clean_db_ranking(df):\n",
    "    df = df.drop_duplicates(ignore_index=True)\n",
    "    df = df.dropna(axis=1, how='all')\n",
    "    df = df[df['market_share_per'] < 99] # Removing, these are like 10 registers\n",
    "    df = df.drop(['ebitda_2014_amount', 'ebitda_2013_amount'], axis=1) # Removing these columns because are too few\n",
    "    \n",
    "    for col in ranking_dict: #computing and droping ranking\n",
    "        df['ranking_2017_number'].fillna(df[col], inplace=True)\n",
    "    df['ranking_last_number'] = df['ranking_2017_number']\n",
    "    df = df.drop(ranking_dict, axis=1)\n",
    "    \n",
    "    for col in min_usd_billing_dict: #computing and dropping min usd amounts\n",
    "        df['min_usd_billing_2017_amount'].fillna(df[col], inplace=True)\n",
    "    df['min_usd_billing_last_amount'] = df['min_usd_billing_2016_amount']\n",
    "    df = df.drop(min_usd_billing_dict, axis=1)\n",
    "\n",
    "    for col in max_usd_billing_dict: #computing and dropping max usd amounts\n",
    "        df['max_usd_billing_2017_amount'].fillna(df[col], inplace=True)\n",
    "    df['max_usd_billing_last_amount'] = df['max_usd_billing_2017_amount']\n",
    "    df = df.drop(max_usd_billing_dict, axis=1)\n",
    "\n",
    "    for col in min_pen_billing_dict: #computing and dropping max usd amounts\n",
    "        df['min_pen_billing_2017_amount'].fillna(df[col], inplace=True)\n",
    "    df['min_pen_billing_last_amount'] = df['min_pen_billing_2017_amount']\n",
    "    df = df.drop(min_pen_billing_dict, axis=1)\n",
    "\n",
    "    for col in max_pen_billing_dict: #computing and dropping max usd amounts\n",
    "        df['max_pen_billing_2017_amount'].fillna(df[col], inplace=True)\n",
    "    df['max_pen_billing_last_amount'] = df['max_pen_billing_2017_amount']\n",
    "    df = df.drop(max_pen_billing_dict, axis=1)\n",
    "\n",
    "    df['exporter_mark_type_flag'] = df['exporter_mark_type']\n",
    "    df['importer_mark_type_flag'] = df['importer_mark_type']\n",
    "\n",
    "    df = df.drop(df.columns[[i for i in range(15, 185)]], axis=1)\n",
    "\n",
    "    for col in pbi_sector_dict: #computing and dropping max usd amounts\n",
    "        df['pbi_sector_2016_per'].fillna(df[col], inplace=True)\n",
    "    df['pbi_sector_last_per'] = df['pbi_sector_2016_per']\n",
    "    df['pbi_sector_last_per'] = df['pbi_sector_last_per'].replace(0, np.nan)\n",
    "    df = df.drop(pbi_sector_dict, axis=1)\n",
    "\n",
    "    df = df.drop(['cutoff_date'], axis=1)\n",
    "\n",
    "    return df"
   ]
  },
  {
   "cell_type": "code",
   "execution_count": 5,
   "metadata": {},
   "outputs": [
    {
     "output_type": "execute_result",
     "data": {
      "text/plain": [
       "      taxpayer_id  company_economic_activity_id  \\\n",
       "98    10445448714                          6021   \n",
       "5223    274002229                          8511   \n",
       "5934  20408838433                          7421   \n",
       "388   31341336964                          2221   \n",
       "3838   3178406028                          1512   \n",
       "\n",
       "                                      ciiu_spanish_desc  \\\n",
       "98    Otros tipos de transporte regular de pasajeros...   \n",
       "5223                          Actividades de hospitales   \n",
       "5934  Actividades de arquitectura e ingenierÃ­a y ac...   \n",
       "388                           Actividades de impresiÃ³n   \n",
       "3838  ElaboraciÃ³n y conservaciÃ³n de pescado y prod...   \n",
       "\n",
       "     spanish_sector_company_name  employees_number  branches_number  \\\n",
       "98                       TURISMO              34.0              1.0   \n",
       "5223                       SALUD               NaN              1.0   \n",
       "5934    CONSULTORIAS Y SERVICIOS              82.0              1.0   \n",
       "388                   IMPRESIÃ“N              13.0              1.0   \n",
       "3838                       PESCA              32.0              1.0   \n",
       "\n",
       "     activity_start_date  seniority_company_years_number  \\\n",
       "98            2005-02-16                            13.0   \n",
       "5223          9999-12-31                             1.0   \n",
       "5934          2011-07-01                             7.0   \n",
       "388           1999-05-10                            19.0   \n",
       "3838          2009-08-17                             9.0   \n",
       "\n",
       "                          company_size_desc foreign_company_mark_type  ...  \\\n",
       "98    Mediana empresa / Medium-size Company                       NaN  ...   \n",
       "5223  PequeÃ±a empresa / Small-size Company                       NaN  ...   \n",
       "5934  Mediana empresa / Medium-size Company                       NaN  ...   \n",
       "388   Mediana empresa / Medium-size Company                       NaN  ...   \n",
       "3838  PequeÃ±a empresa / Small-size Company                       NaN  ...   \n",
       "\n",
       "     private_public_mark_desc market_share_per ranking_last_number  \\\n",
       "98                    PRIVADA         0.234204              8536.0   \n",
       "5223                  PRIVADA         0.248629              7646.0   \n",
       "5934                  PRIVADA         0.059811                 NaN   \n",
       "388                   PRIVADA         0.433709              9779.0   \n",
       "3838                  PRIVADA         0.172852              3805.0   \n",
       "\n",
       "     min_usd_billing_last_amount  max_usd_billing_last_amount  \\\n",
       "98                     3659259.0                  3218883.814   \n",
       "5223                         NaN                  3884572.000   \n",
       "5934                         NaN                          NaN   \n",
       "388                          NaN                  2856246.000   \n",
       "3838                         NaN                  8879023.000   \n",
       "\n",
       "      min_pen_billing_last_amount  max_pen_billing_last_amount  \\\n",
       "98                      9900000.0                   10499999.0   \n",
       "5223                    9500000.0                   10499999.0   \n",
       "5934                          NaN                          NaN   \n",
       "388                     8700000.0                    9099999.0   \n",
       "3838                   20000000.0                   23999999.0   \n",
       "\n",
       "      exporter_mark_type_flag  importer_mark_type_flag  pbi_sector_last_per  \n",
       "98                        NaN              IMPORTADORA                  2.4  \n",
       "5223                      NaN                      NaN                  2.4  \n",
       "5934                      NaN                      NaN                  1.8  \n",
       "388                       NaN              IMPORTADORA                  1.9  \n",
       "3838                      NaN              IMPORTADORA                  3.0  \n",
       "\n",
       "[5 rows x 23 columns]"
      ],
      "text/html": "<div>\n<style scoped>\n    .dataframe tbody tr th:only-of-type {\n        vertical-align: middle;\n    }\n\n    .dataframe tbody tr th {\n        vertical-align: top;\n    }\n\n    .dataframe thead th {\n        text-align: right;\n    }\n</style>\n<table border=\"1\" class=\"dataframe\">\n  <thead>\n    <tr style=\"text-align: right;\">\n      <th></th>\n      <th>taxpayer_id</th>\n      <th>company_economic_activity_id</th>\n      <th>ciiu_spanish_desc</th>\n      <th>spanish_sector_company_name</th>\n      <th>employees_number</th>\n      <th>branches_number</th>\n      <th>activity_start_date</th>\n      <th>seniority_company_years_number</th>\n      <th>company_size_desc</th>\n      <th>foreign_company_mark_type</th>\n      <th>...</th>\n      <th>private_public_mark_desc</th>\n      <th>market_share_per</th>\n      <th>ranking_last_number</th>\n      <th>min_usd_billing_last_amount</th>\n      <th>max_usd_billing_last_amount</th>\n      <th>min_pen_billing_last_amount</th>\n      <th>max_pen_billing_last_amount</th>\n      <th>exporter_mark_type_flag</th>\n      <th>importer_mark_type_flag</th>\n      <th>pbi_sector_last_per</th>\n    </tr>\n  </thead>\n  <tbody>\n    <tr>\n      <th>98</th>\n      <td>10445448714</td>\n      <td>6021</td>\n      <td>Otros tipos de transporte regular de pasajeros...</td>\n      <td>TURISMO</td>\n      <td>34.0</td>\n      <td>1.0</td>\n      <td>2005-02-16</td>\n      <td>13.0</td>\n      <td>Mediana empresa / Medium-size Company</td>\n      <td>NaN</td>\n      <td>...</td>\n      <td>PRIVADA</td>\n      <td>0.234204</td>\n      <td>8536.0</td>\n      <td>3659259.0</td>\n      <td>3218883.814</td>\n      <td>9900000.0</td>\n      <td>10499999.0</td>\n      <td>NaN</td>\n      <td>IMPORTADORA</td>\n      <td>2.4</td>\n    </tr>\n    <tr>\n      <th>5223</th>\n      <td>274002229</td>\n      <td>8511</td>\n      <td>Actividades de hospitales</td>\n      <td>SALUD</td>\n      <td>NaN</td>\n      <td>1.0</td>\n      <td>9999-12-31</td>\n      <td>1.0</td>\n      <td>PequeÃ±a empresa / Small-size Company</td>\n      <td>NaN</td>\n      <td>...</td>\n      <td>PRIVADA</td>\n      <td>0.248629</td>\n      <td>7646.0</td>\n      <td>NaN</td>\n      <td>3884572.000</td>\n      <td>9500000.0</td>\n      <td>10499999.0</td>\n      <td>NaN</td>\n      <td>NaN</td>\n      <td>2.4</td>\n    </tr>\n    <tr>\n      <th>5934</th>\n      <td>20408838433</td>\n      <td>7421</td>\n      <td>Actividades de arquitectura e ingenierÃ­a y ac...</td>\n      <td>CONSULTORIAS Y SERVICIOS</td>\n      <td>82.0</td>\n      <td>1.0</td>\n      <td>2011-07-01</td>\n      <td>7.0</td>\n      <td>Mediana empresa / Medium-size Company</td>\n      <td>NaN</td>\n      <td>...</td>\n      <td>PRIVADA</td>\n      <td>0.059811</td>\n      <td>NaN</td>\n      <td>NaN</td>\n      <td>NaN</td>\n      <td>NaN</td>\n      <td>NaN</td>\n      <td>NaN</td>\n      <td>NaN</td>\n      <td>1.8</td>\n    </tr>\n    <tr>\n      <th>388</th>\n      <td>31341336964</td>\n      <td>2221</td>\n      <td>Actividades de impresiÃ³n</td>\n      <td>IMPRESIÃ“N</td>\n      <td>13.0</td>\n      <td>1.0</td>\n      <td>1999-05-10</td>\n      <td>19.0</td>\n      <td>Mediana empresa / Medium-size Company</td>\n      <td>NaN</td>\n      <td>...</td>\n      <td>PRIVADA</td>\n      <td>0.433709</td>\n      <td>9779.0</td>\n      <td>NaN</td>\n      <td>2856246.000</td>\n      <td>8700000.0</td>\n      <td>9099999.0</td>\n      <td>NaN</td>\n      <td>IMPORTADORA</td>\n      <td>1.9</td>\n    </tr>\n    <tr>\n      <th>3838</th>\n      <td>3178406028</td>\n      <td>1512</td>\n      <td>ElaboraciÃ³n y conservaciÃ³n de pescado y prod...</td>\n      <td>PESCA</td>\n      <td>32.0</td>\n      <td>1.0</td>\n      <td>2009-08-17</td>\n      <td>9.0</td>\n      <td>PequeÃ±a empresa / Small-size Company</td>\n      <td>NaN</td>\n      <td>...</td>\n      <td>PRIVADA</td>\n      <td>0.172852</td>\n      <td>3805.0</td>\n      <td>NaN</td>\n      <td>8879023.000</td>\n      <td>20000000.0</td>\n      <td>23999999.0</td>\n      <td>NaN</td>\n      <td>IMPORTADORA</td>\n      <td>3.0</td>\n    </tr>\n  </tbody>\n</table>\n<p>5 rows × 23 columns</p>\n</div>"
     },
     "metadata": {},
     "execution_count": 5
    }
   ],
   "source": [
    "db_ranking = clean_db_ranking(db_ranking)\n",
    "db_ranking.sample(5)"
   ]
  },
  {
   "cell_type": "code",
   "execution_count": 6,
   "metadata": {},
   "outputs": [
    {
     "output_type": "execute_result",
     "data": {
      "text/plain": [
       "['COMERCIALIZADORAS',\n",
       " 'CONSULTORIAS Y SERVICIOS',\n",
       " 'CONSTRUCTORAS',\n",
       " 'TRANSPORTE',\n",
       " 'METALMECANICA',\n",
       " 'AGROINDUSTRIA Y GANADERIA',\n",
       " 'INMOBILIARIAS',\n",
       " 'TURISMO',\n",
       " 'OTROS SERVICIOS',\n",
       " 'HIDROCARBUROS',\n",
       " 'INFORMATICA',\n",
       " 'VEHICULOS',\n",
       " 'TEXTILES',\n",
       " 'MINERIA',\n",
       " 'INDUSTRIA ALIMENTARIA',\n",
       " 'EDUCACION',\n",
       " 'CAUCHO Y PLASTICO',\n",
       " 'TELECOMUNICACIONES',\n",
       " 'PESCA',\n",
       " 'SALUD',\n",
       " 'ALQUILERES (MAQUINARIA)',\n",
       " 'INTERMEDIACION FINANCIERA',\n",
       " 'ESPARCIMIENTO',\n",
       " 'AUTOMOTRIZ',\n",
       " 'ABOGADOS',\n",
       " 'QUIMICAS',\n",
       " 'IMPRESIÃ“N',\n",
       " 'MINERALES NO METALICOS',\n",
       " 'FORESTAL Y SILVICULTURA',\n",
       " 'ORGANIZACIONES',\n",
       " 'ENERGIA Y AGUA',\n",
       " 'EDITORIALES',\n",
       " 'ADMINISTRACION PUBLICA',\n",
       " 'PAPEL',\n",
       " 'CURTIDURIA',\n",
       " 'CORREOS',\n",
       " 'RECICLAJE',\n",
       " 'LABORATORIOS',\n",
       " 'BEBIDAS',\n",
       " 'INVESTIGACION Y DESARROLLO',\n",
       " 'VETERINARIAS']"
      ]
     },
     "metadata": {},
     "execution_count": 6
    }
   ],
   "source": [
    "db_ranking['spanish_sector_company_name'].value_counts().index.tolist()"
   ]
  },
  {
   "cell_type": "code",
   "execution_count": 9,
   "metadata": {},
   "outputs": [
    {
     "output_type": "execute_result",
     "data": {
      "text/plain": [
       "ConstrucciÃ³n de edificios completos o de partes de edificios, obras de ingenierÃ­a civil       538\n",
       "Venta al por mayor de otros productos                                                           522\n",
       "Otras actividades empresariales n.c.p.                                                          349\n",
       "Transporte de carga por carretera                                                               294\n",
       "Actividades de arquitectura e ingenierÃ­a y actividaes conexas de asesoramiento tÃ©cnico        222\n",
       "                                                                                               ... \n",
       "ReproducciÃ³n de grabaciones                                                                      1\n",
       "Actividades de fotografÃ­a                                                                        1\n",
       "FabricaciÃ³n de cojines, engranajes, trenes de engranajes y piezas de transmisiÃ³n                1\n",
       "FabricaciÃ³n de artÃ­culos de cuchillerÃ­a, herramientas de mano y artÃ­culos de ferreterÃ­a      1\n",
       "Actividades de organizaciones empresariales y de empleadores                                      1\n",
       "Name: ciiu_spanish_desc, Length: 228, dtype: int64"
      ]
     },
     "metadata": {},
     "execution_count": 9
    }
   ],
   "source": [
    "db_ranking['ciiu_spanish_desc'].value_counts()"
   ]
  },
  {
   "cell_type": "code",
   "execution_count": 10,
   "metadata": {},
   "outputs": [
    {
     "output_type": "execute_result",
     "data": {
      "text/plain": [
       "PequeÃ±a empresa / Small-size Company    3093\n",
       "Mediana empresa / Medium-size Company    2648\n",
       "Gran Empresa / Big-size Company            28\n",
       "Name: company_size_desc, dtype: int64"
      ]
     },
     "metadata": {},
     "execution_count": 10
    }
   ],
   "source": [
    "db_ranking['company_size_desc'].value_counts()"
   ]
  },
  {
   "cell_type": "code",
   "execution_count": 17,
   "metadata": {},
   "outputs": [
    {
     "output_type": "execute_result",
     "data": {
      "text/plain": [
       "Lima                4167\n",
       "La Libertad          190\n",
       "Arequipa             176\n",
       "Piura                131\n",
       "Ancash               126\n",
       "Ucayali              121\n",
       "Lambayeque            98\n",
       "JunÃ­n                83\n",
       "Cajamarca             81\n",
       "Loreto                77\n",
       "Cusco                 75\n",
       "San MartÃ­n           68\n",
       "Puno                  64\n",
       "HuÃ¡nuco              64\n",
       "Ica                   62\n",
       "Ayacucho              40\n",
       "Tacna                 33\n",
       "Madre de Dios         25\n",
       "Tumbes                23\n",
       "Pasco                 23\n",
       "Amazonas              22\n",
       "Moquegua              11\n",
       "ApurÃ­mac              9\n",
       "Huancavelica           3\n",
       "Callao                 2\n",
       "Av. JosÃ© GÃ¡lve       2\n",
       "Madre De Dios          1\n",
       "Name: department_name, dtype: int64"
      ]
     },
     "metadata": {},
     "execution_count": 17
    }
   ],
   "source": [
    "db_ranking['department_name'].value_counts()"
   ]
  }
 ]
}