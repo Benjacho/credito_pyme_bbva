{
 "metadata": {
  "language_info": {
   "codemirror_mode": {
    "name": "ipython",
    "version": 3
   },
   "file_extension": ".py",
   "mimetype": "text/x-python",
   "name": "python",
   "nbconvert_exporter": "python",
   "pygments_lexer": "ipython3",
   "version": "3.8.5-final"
  },
  "orig_nbformat": 2,
  "kernelspec": {
   "name": "Python 3.8.5 64-bit ('env': venv)",
   "display_name": "Python 3.8.5 64-bit ('env': venv)",
   "metadata": {
    "interpreter": {
     "hash": "65ecf4b4b6460c575430becd1634e12763d0c1dbb31c953436479f0eff0e1c5a"
    }
   }
  }
 },
 "nbformat": 4,
 "nbformat_minor": 2,
 "cells": [
  {
   "cell_type": "code",
   "execution_count": 196,
   "metadata": {},
   "outputs": [],
   "source": [
    "import pandas as pd\n",
    "import numpy as np"
   ]
  },
  {
   "cell_type": "code",
   "execution_count": 197,
   "metadata": {},
   "outputs": [
    {
     "output_type": "execute_result",
     "data": {
      "text/plain": [
       "       taxpayer_id  company_economic_activity_id  \\\n",
       "5663   90848538481                          5122   \n",
       "8440   31996258764                          5030   \n",
       "12907  21730729699                          1320   \n",
       "4718    3672820819                          5030   \n",
       "11805  21226409163                          5040   \n",
       "\n",
       "                                       ciiu_spanish_desc  \\\n",
       "5663   Venta al por mayor de alimentos, bebidas y tabaco   \n",
       "8440   Ventas de partes, piezas y accesorios de vehÃ­...   \n",
       "12907  ExtracciÃ³n de minerales matalÃ­feros no ferro...   \n",
       "4718   Ventas de partes, piezas y accesorios de vehÃ­...   \n",
       "11805  Venta, mantenimiento y reparacion de motocicle...   \n",
       "\n",
       "      spanish_sector_company_name  employees_number  branches_number  \\\n",
       "5663            COMERCIALIZADORAS              18.0              1.0   \n",
       "8440                    VEHICULOS              18.0              2.0   \n",
       "12907                     MINERIA              57.0              1.0   \n",
       "4718                    VEHICULOS              10.0              1.0   \n",
       "11805                   VEHICULOS               3.0              1.0   \n",
       "\n",
       "      activity_start_date  seniority_company_years_number  \\\n",
       "5663           1997-04-15                            21.0   \n",
       "8440           2002-09-28                            16.0   \n",
       "12907          2005-04-22                            13.0   \n",
       "4718           1990-08-01                            28.0   \n",
       "11805          2004-01-12                            14.0   \n",
       "\n",
       "                           company_size_desc foreign_company_mark_type  ...  \\\n",
       "5663   Mediana empresa / Medium-size Company                       NaN  ...   \n",
       "8440   Mediana empresa / Medium-size Company                       NaN  ...   \n",
       "12907  PequeÃ±a empresa / Small-size Company                       NaN  ...   \n",
       "4718   Mediana empresa / Medium-size Company                       NaN  ...   \n",
       "11805  PequeÃ±a empresa / Small-size Company                       NaN  ...   \n",
       "\n",
       "      pbi_sector_2015_per pbi_sector_2014_per pbi_sector_2013_per  \\\n",
       "5663                  1.8                 3.9                 4.4   \n",
       "8440                  1.8                 5.5                 4.9   \n",
       "12907                 1.8                 3.9                 4.4   \n",
       "4718                  1.8                 5.5                 4.9   \n",
       "11805                 1.8                 5.5                 4.9   \n",
       "\n",
       "      pbi_sector_2012_per  pbi_sector_2011_per  pbi_sector_2010_per  \\\n",
       "5663                  5.8                 6.70                 8.80   \n",
       "8440                  5.9                 6.71                 8.82   \n",
       "12907                 5.8                 6.70                 8.80   \n",
       "4718                  5.9                 6.71                 8.82   \n",
       "11805                 5.9                 6.71                 8.82   \n",
       "\n",
       "       pbi_sector_2009_per  pbi_sector_2008_per  pbi_sector_2007_per  \\\n",
       "5663                  9.69                 -0.9                12.80   \n",
       "8440                  9.69                 -0.4                12.99   \n",
       "12907                 9.69                 -0.9                12.80   \n",
       "4718                  9.69                 -0.4                12.99   \n",
       "11805                 9.69                 -0.4                12.99   \n",
       "\n",
       "       cutoff_date  \n",
       "5663    2020-02-28  \n",
       "8440    2020-02-28  \n",
       "12907   2020-02-28  \n",
       "4718    2020-02-28  \n",
       "11805   2020-02-28  \n",
       "\n",
       "[5 rows x 226 columns]"
      ],
      "text/html": "<div>\n<style scoped>\n    .dataframe tbody tr th:only-of-type {\n        vertical-align: middle;\n    }\n\n    .dataframe tbody tr th {\n        vertical-align: top;\n    }\n\n    .dataframe thead th {\n        text-align: right;\n    }\n</style>\n<table border=\"1\" class=\"dataframe\">\n  <thead>\n    <tr style=\"text-align: right;\">\n      <th></th>\n      <th>taxpayer_id</th>\n      <th>company_economic_activity_id</th>\n      <th>ciiu_spanish_desc</th>\n      <th>spanish_sector_company_name</th>\n      <th>employees_number</th>\n      <th>branches_number</th>\n      <th>activity_start_date</th>\n      <th>seniority_company_years_number</th>\n      <th>company_size_desc</th>\n      <th>foreign_company_mark_type</th>\n      <th>...</th>\n      <th>pbi_sector_2015_per</th>\n      <th>pbi_sector_2014_per</th>\n      <th>pbi_sector_2013_per</th>\n      <th>pbi_sector_2012_per</th>\n      <th>pbi_sector_2011_per</th>\n      <th>pbi_sector_2010_per</th>\n      <th>pbi_sector_2009_per</th>\n      <th>pbi_sector_2008_per</th>\n      <th>pbi_sector_2007_per</th>\n      <th>cutoff_date</th>\n    </tr>\n  </thead>\n  <tbody>\n    <tr>\n      <th>5663</th>\n      <td>90848538481</td>\n      <td>5122</td>\n      <td>Venta al por mayor de alimentos, bebidas y tabaco</td>\n      <td>COMERCIALIZADORAS</td>\n      <td>18.0</td>\n      <td>1.0</td>\n      <td>1997-04-15</td>\n      <td>21.0</td>\n      <td>Mediana empresa / Medium-size Company</td>\n      <td>NaN</td>\n      <td>...</td>\n      <td>1.8</td>\n      <td>3.9</td>\n      <td>4.4</td>\n      <td>5.8</td>\n      <td>6.70</td>\n      <td>8.80</td>\n      <td>9.69</td>\n      <td>-0.9</td>\n      <td>12.80</td>\n      <td>2020-02-28</td>\n    </tr>\n    <tr>\n      <th>8440</th>\n      <td>31996258764</td>\n      <td>5030</td>\n      <td>Ventas de partes, piezas y accesorios de vehÃ­...</td>\n      <td>VEHICULOS</td>\n      <td>18.0</td>\n      <td>2.0</td>\n      <td>2002-09-28</td>\n      <td>16.0</td>\n      <td>Mediana empresa / Medium-size Company</td>\n      <td>NaN</td>\n      <td>...</td>\n      <td>1.8</td>\n      <td>5.5</td>\n      <td>4.9</td>\n      <td>5.9</td>\n      <td>6.71</td>\n      <td>8.82</td>\n      <td>9.69</td>\n      <td>-0.4</td>\n      <td>12.99</td>\n      <td>2020-02-28</td>\n    </tr>\n    <tr>\n      <th>12907</th>\n      <td>21730729699</td>\n      <td>1320</td>\n      <td>ExtracciÃ³n de minerales matalÃ­feros no ferro...</td>\n      <td>MINERIA</td>\n      <td>57.0</td>\n      <td>1.0</td>\n      <td>2005-04-22</td>\n      <td>13.0</td>\n      <td>PequeÃ±a empresa / Small-size Company</td>\n      <td>NaN</td>\n      <td>...</td>\n      <td>1.8</td>\n      <td>3.9</td>\n      <td>4.4</td>\n      <td>5.8</td>\n      <td>6.70</td>\n      <td>8.80</td>\n      <td>9.69</td>\n      <td>-0.9</td>\n      <td>12.80</td>\n      <td>2020-02-28</td>\n    </tr>\n    <tr>\n      <th>4718</th>\n      <td>3672820819</td>\n      <td>5030</td>\n      <td>Ventas de partes, piezas y accesorios de vehÃ­...</td>\n      <td>VEHICULOS</td>\n      <td>10.0</td>\n      <td>1.0</td>\n      <td>1990-08-01</td>\n      <td>28.0</td>\n      <td>Mediana empresa / Medium-size Company</td>\n      <td>NaN</td>\n      <td>...</td>\n      <td>1.8</td>\n      <td>5.5</td>\n      <td>4.9</td>\n      <td>5.9</td>\n      <td>6.71</td>\n      <td>8.82</td>\n      <td>9.69</td>\n      <td>-0.4</td>\n      <td>12.99</td>\n      <td>2020-02-28</td>\n    </tr>\n    <tr>\n      <th>11805</th>\n      <td>21226409163</td>\n      <td>5040</td>\n      <td>Venta, mantenimiento y reparacion de motocicle...</td>\n      <td>VEHICULOS</td>\n      <td>3.0</td>\n      <td>1.0</td>\n      <td>2004-01-12</td>\n      <td>14.0</td>\n      <td>PequeÃ±a empresa / Small-size Company</td>\n      <td>NaN</td>\n      <td>...</td>\n      <td>1.8</td>\n      <td>5.5</td>\n      <td>4.9</td>\n      <td>5.9</td>\n      <td>6.71</td>\n      <td>8.82</td>\n      <td>9.69</td>\n      <td>-0.4</td>\n      <td>12.99</td>\n      <td>2020-02-28</td>\n    </tr>\n  </tbody>\n</table>\n<p>5 rows × 226 columns</p>\n</div>"
     },
     "metadata": {},
     "execution_count": 197
    }
   ],
   "source": [
    "db_ranking = pd.read_csv('dbRanking.csv', delimiter='|')\n",
    "db_ranking.sample(5)"
   ]
  },
  {
   "cell_type": "code",
   "execution_count": 198,
   "metadata": {},
   "outputs": [],
   "source": [
    "ranking_dict = ['ranking_'+str(i)+'_number' for i in range(2017,2009,-1)]\n",
    "min_usd_billing_dict = ['min_usd_billing_'+str(i)+'_amount' for i in range(2017,2012,-1)]\n",
    "max_usd_billing_dict = ['max_usd_billing_'+str(i)+'_amount' for i in range(2017,2012,-1)]\n",
    "min_pen_billing_dict = ['min_pen_billing_'+str(i)+'_amount' for i in range(2017,2012,-1)] \n",
    "max_pen_billing_dict = ['max_pen_billing_'+str(i)+'_amount' for i in range(2017,2012,-1)]\n",
    "pbi_sector_dict = ['pbi_sector_'+str(i)+'_per' for i in range(2016,2006,-1)]\n",
    "\n",
    "def clean_db_ranking(df):\n",
    "    df = df.drop_duplicates(ignore_index=True)\n",
    "    df = df.dropna(axis=1, how='all')\n",
    "    df = df[df['market_share_per'] < 99] # Removing, these are like 10 registers\n",
    "    df = df.drop(['ebitda_2014_amount', 'ebitda_2013_amount'], axis=1) # Removing these columns because are too few\n",
    "    \n",
    "    for col in ranking_dict: #computing and droping ranking\n",
    "        df['ranking_2017_number'].fillna(df[col], inplace=True)\n",
    "    df['ranking_last_number'] = df['ranking_2017_number']\n",
    "    df = df.drop(ranking_dict, axis=1)\n",
    "    \n",
    "    for col in min_usd_billing_dict: #computing and dropping min usd amounts\n",
    "        df['min_usd_billing_2017_amount'].fillna(df[col], inplace=True)\n",
    "    df['min_usd_billing_last_amount'] = df['min_usd_billing_2016_amount']\n",
    "    df = df.drop(min_usd_billing_dict, axis=1)\n",
    "\n",
    "    for col in max_usd_billing_dict: #computing and dropping max usd amounts\n",
    "        df['max_usd_billing_2017_amount'].fillna(df[col], inplace=True)\n",
    "    df['max_usd_billing_last_amount'] = df['max_usd_billing_2017_amount']\n",
    "    df = df.drop(max_usd_billing_dict, axis=1)\n",
    "\n",
    "    for col in min_pen_billing_dict: #computing and dropping max usd amounts\n",
    "        df['min_pen_billing_2017_amount'].fillna(df[col], inplace=True)\n",
    "    df['min_pen_billing_last_amount'] = df['min_pen_billing_2017_amount']\n",
    "    df = df.drop(min_pen_billing_dict, axis=1)\n",
    "\n",
    "    for col in max_pen_billing_dict: #computing and dropping max usd amounts\n",
    "        df['max_pen_billing_2017_amount'].fillna(df[col], inplace=True)\n",
    "    df['max_pen_billing_last_amount'] = df['max_pen_billing_2017_amount']\n",
    "    df = df.drop(max_pen_billing_dict, axis=1)\n",
    "\n",
    "    df['exporter_mark_type_flag'] = df['exporter_mark_type']\n",
    "    df['importer_mark_type_flag'] = df['importer_mark_type']\n",
    "\n",
    "    df = df.drop(df.columns[[i for i in range(15, 185)]], axis=1)\n",
    "\n",
    "    for col in pbi_sector_dict: #computing and dropping max usd amounts\n",
    "        df['pbi_sector_2016_per'].fillna(df[col], inplace=True)\n",
    "    df['pbi_sector_last_per'] = df['pbi_sector_2016_per']\n",
    "    df['pbi_sector_last_per'] = df['pbi_sector_last_per'].replace(0, np.nan)\n",
    "    df = df.drop(pbi_sector_dict, axis=1)\n",
    "\n",
    "    df = df.drop(['cutoff_date'], axis=1)\n",
    "\n",
    "    return df"
   ]
  },
  {
   "cell_type": "code",
   "execution_count": 199,
   "metadata": {},
   "outputs": [
    {
     "output_type": "execute_result",
     "data": {
      "text/plain": [
       "      taxpayer_id  company_economic_activity_id  \\\n",
       "3796  48058611240                          3720   \n",
       "3180  87721219230                          9211   \n",
       "2350  87982748466                          6720   \n",
       "802   90859118891                          4520   \n",
       "3866  45493849318                          2811   \n",
       "\n",
       "                                      ciiu_spanish_desc  \\\n",
       "3796  Reciclamiento de desperdicios y desechos no me...   \n",
       "3180  ProducciÃ³n y distribuciÃ³n de filmes y videoc...   \n",
       "2350  Actividades auxiliares de la financiaciÃ³n de ...   \n",
       "802   ConstrucciÃ³n de edificios completos o de part...   \n",
       "3866  FabricaciÃ³n de productos metÃ¡licos para uso ...   \n",
       "\n",
       "     spanish_sector_company_name  employees_number  branches_number  \\\n",
       "3796                   RECICLAJE              13.0              1.0   \n",
       "3180               ESPARCIMIENTO               8.0              1.0   \n",
       "2350   INTERMEDIACION FINANCIERA             213.0              2.0   \n",
       "802                CONSTRUCTORAS               5.0              1.0   \n",
       "3866               METALMECANICA               3.0              1.0   \n",
       "\n",
       "     activity_start_date  seniority_company_years_number  \\\n",
       "3796          1993-02-01                            25.0   \n",
       "3180          1993-12-22                            25.0   \n",
       "2350          1989-02-01                            29.0   \n",
       "802           2004-04-17                            14.0   \n",
       "3866          2006-07-01                            12.0   \n",
       "\n",
       "                          company_size_desc foreign_company_mark_type  ...  \\\n",
       "3796  Mediana empresa / Medium-size Company                       NaN  ...   \n",
       "3180  Mediana empresa / Medium-size Company                       NaN  ...   \n",
       "2350  Mediana empresa / Medium-size Company                       NaN  ...   \n",
       "802   PequeÃ±a empresa / Small-size Company                       NaN  ...   \n",
       "3866  PequeÃ±a empresa / Small-size Company                       NaN  ...   \n",
       "\n",
       "     private_public_mark_desc market_share_per ranking_last_number  \\\n",
       "3796                  PRIVADA         6.588313              8517.0   \n",
       "3180                  PRIVADA         6.672004              7635.0   \n",
       "2350                  PRIVADA         2.059432              3612.0   \n",
       "802                   PRIVADA         0.025214              7712.0   \n",
       "3866                  PRIVADA         0.274468                 NaN   \n",
       "\n",
       "     min_usd_billing_last_amount  max_usd_billing_last_amount  \\\n",
       "3796                   2903704.0                  3218883.814   \n",
       "3180                   3659259.0                  3770692.520   \n",
       "2350                   7170370.0                  7510729.307   \n",
       "802                    3229630.0                  3659258.000   \n",
       "3866                         NaN                          NaN   \n",
       "\n",
       "      min_pen_billing_last_amount  max_pen_billing_last_amount  \\\n",
       "3796                    9900000.0                   10499999.0   \n",
       "3180                   12000000.0                   12299999.0   \n",
       "2350                   19000000.0                   24499999.0   \n",
       "802                    10900000.0                   12349999.0   \n",
       "3866                          NaN                          NaN   \n",
       "\n",
       "      exporter_mark_type_flag  importer_mark_type_flag  pbi_sector_last_per  \n",
       "3796                      NaN              IMPORTADORA                  3.9  \n",
       "3180              EXPORTADORA              IMPORTADORA                  3.4  \n",
       "2350                      NaN              IMPORTADORA                  6.0  \n",
       "802                       NaN                      NaN                  NaN  \n",
       "3866              EXPORTADORA              IMPORTADORA                  NaN  \n",
       "\n",
       "[5 rows x 23 columns]"
      ],
      "text/html": "<div>\n<style scoped>\n    .dataframe tbody tr th:only-of-type {\n        vertical-align: middle;\n    }\n\n    .dataframe tbody tr th {\n        vertical-align: top;\n    }\n\n    .dataframe thead th {\n        text-align: right;\n    }\n</style>\n<table border=\"1\" class=\"dataframe\">\n  <thead>\n    <tr style=\"text-align: right;\">\n      <th></th>\n      <th>taxpayer_id</th>\n      <th>company_economic_activity_id</th>\n      <th>ciiu_spanish_desc</th>\n      <th>spanish_sector_company_name</th>\n      <th>employees_number</th>\n      <th>branches_number</th>\n      <th>activity_start_date</th>\n      <th>seniority_company_years_number</th>\n      <th>company_size_desc</th>\n      <th>foreign_company_mark_type</th>\n      <th>...</th>\n      <th>private_public_mark_desc</th>\n      <th>market_share_per</th>\n      <th>ranking_last_number</th>\n      <th>min_usd_billing_last_amount</th>\n      <th>max_usd_billing_last_amount</th>\n      <th>min_pen_billing_last_amount</th>\n      <th>max_pen_billing_last_amount</th>\n      <th>exporter_mark_type_flag</th>\n      <th>importer_mark_type_flag</th>\n      <th>pbi_sector_last_per</th>\n    </tr>\n  </thead>\n  <tbody>\n    <tr>\n      <th>3796</th>\n      <td>48058611240</td>\n      <td>3720</td>\n      <td>Reciclamiento de desperdicios y desechos no me...</td>\n      <td>RECICLAJE</td>\n      <td>13.0</td>\n      <td>1.0</td>\n      <td>1993-02-01</td>\n      <td>25.0</td>\n      <td>Mediana empresa / Medium-size Company</td>\n      <td>NaN</td>\n      <td>...</td>\n      <td>PRIVADA</td>\n      <td>6.588313</td>\n      <td>8517.0</td>\n      <td>2903704.0</td>\n      <td>3218883.814</td>\n      <td>9900000.0</td>\n      <td>10499999.0</td>\n      <td>NaN</td>\n      <td>IMPORTADORA</td>\n      <td>3.9</td>\n    </tr>\n    <tr>\n      <th>3180</th>\n      <td>87721219230</td>\n      <td>9211</td>\n      <td>ProducciÃ³n y distribuciÃ³n de filmes y videoc...</td>\n      <td>ESPARCIMIENTO</td>\n      <td>8.0</td>\n      <td>1.0</td>\n      <td>1993-12-22</td>\n      <td>25.0</td>\n      <td>Mediana empresa / Medium-size Company</td>\n      <td>NaN</td>\n      <td>...</td>\n      <td>PRIVADA</td>\n      <td>6.672004</td>\n      <td>7635.0</td>\n      <td>3659259.0</td>\n      <td>3770692.520</td>\n      <td>12000000.0</td>\n      <td>12299999.0</td>\n      <td>EXPORTADORA</td>\n      <td>IMPORTADORA</td>\n      <td>3.4</td>\n    </tr>\n    <tr>\n      <th>2350</th>\n      <td>87982748466</td>\n      <td>6720</td>\n      <td>Actividades auxiliares de la financiaciÃ³n de ...</td>\n      <td>INTERMEDIACION FINANCIERA</td>\n      <td>213.0</td>\n      <td>2.0</td>\n      <td>1989-02-01</td>\n      <td>29.0</td>\n      <td>Mediana empresa / Medium-size Company</td>\n      <td>NaN</td>\n      <td>...</td>\n      <td>PRIVADA</td>\n      <td>2.059432</td>\n      <td>3612.0</td>\n      <td>7170370.0</td>\n      <td>7510729.307</td>\n      <td>19000000.0</td>\n      <td>24499999.0</td>\n      <td>NaN</td>\n      <td>IMPORTADORA</td>\n      <td>6.0</td>\n    </tr>\n    <tr>\n      <th>802</th>\n      <td>90859118891</td>\n      <td>4520</td>\n      <td>ConstrucciÃ³n de edificios completos o de part...</td>\n      <td>CONSTRUCTORAS</td>\n      <td>5.0</td>\n      <td>1.0</td>\n      <td>2004-04-17</td>\n      <td>14.0</td>\n      <td>PequeÃ±a empresa / Small-size Company</td>\n      <td>NaN</td>\n      <td>...</td>\n      <td>PRIVADA</td>\n      <td>0.025214</td>\n      <td>7712.0</td>\n      <td>3229630.0</td>\n      <td>3659258.000</td>\n      <td>10900000.0</td>\n      <td>12349999.0</td>\n      <td>NaN</td>\n      <td>NaN</td>\n      <td>NaN</td>\n    </tr>\n    <tr>\n      <th>3866</th>\n      <td>45493849318</td>\n      <td>2811</td>\n      <td>FabricaciÃ³n de productos metÃ¡licos para uso ...</td>\n      <td>METALMECANICA</td>\n      <td>3.0</td>\n      <td>1.0</td>\n      <td>2006-07-01</td>\n      <td>12.0</td>\n      <td>PequeÃ±a empresa / Small-size Company</td>\n      <td>NaN</td>\n      <td>...</td>\n      <td>PRIVADA</td>\n      <td>0.274468</td>\n      <td>NaN</td>\n      <td>NaN</td>\n      <td>NaN</td>\n      <td>NaN</td>\n      <td>NaN</td>\n      <td>EXPORTADORA</td>\n      <td>IMPORTADORA</td>\n      <td>NaN</td>\n    </tr>\n  </tbody>\n</table>\n<p>5 rows × 23 columns</p>\n</div>"
     },
     "metadata": {},
     "execution_count": 199
    }
   ],
   "source": [
    "db_ranking = clean_db_ranking(db_ranking)\n",
    "db_ranking.sample(5)"
   ]
  },
  {
   "cell_type": "code",
   "execution_count": 172,
   "metadata": {},
   "outputs": [
    {
     "output_type": "execute_result",
     "data": {
      "text/plain": [
       "0.0     2793\n",
       "2.4     1012\n",
       "3.4      574\n",
       "1.8      391\n",
       "6.8      186\n",
       "2.0      173\n",
       "2.5      155\n",
       "1.0      126\n",
       "3.0      117\n",
       "4.0       88\n",
       "6.0       85\n",
       "1.9       40\n",
       "4.6       16\n",
       "10.0      11\n",
       "6.9        5\n",
       "3.9        3\n",
       "4.8        1\n",
       "Name: pbi_sector_2016_per, dtype: int64"
      ]
     },
     "metadata": {},
     "execution_count": 172
    }
   ],
   "source": [
    "db_ranking['pbi_sector_2016_per'].value_counts()"
   ]
  }
 ]
}